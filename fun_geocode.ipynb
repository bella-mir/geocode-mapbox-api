{
 "cells": [
  {
   "cell_type": "markdown",
   "metadata": {},
   "source": [
    "# Geocoding with Python and MapBox API\n"
   ]
  },
  {
   "cell_type": "markdown",
   "metadata": {},
   "source": [
    "**Date**: 14.02.2024\n",
    "\n",
    "**Course**: Methods of Spatial Analysis. Advanced Level. // HSE, Moscow, spring 2024\n"
   ]
  },
  {
   "cell_type": "markdown",
   "metadata": {},
   "source": [
    "### Geocoding\n",
    "\n",
    "0.  Get API for geocoding [here](https://docs.mapbox.com/api/search/geocoding/)\n",
    "1.  Install all the needed libraries (requied only for the first time)\n",
    "2.  Import libraries\n",
    "3.  Geocoding basics (set parameters, get request)\n",
    "4.  Geocoding addresses from a Data Table\n",
    "\n",
    "### Fun\n",
    "\n",
    "5. Create a spatial point layer form coordinates in a .csv file\n",
    "6. View the result on a web map\n",
    "7. Export a GeoDataFrame to any favorite GIS format\n",
    "8. Create HTML page or PDF and share it with your friends who need to geocode addresses :)\n"
   ]
  },
  {
   "cell_type": "markdown",
   "metadata": {},
   "source": [
    "# Geocoding\n"
   ]
  },
  {
   "cell_type": "markdown",
   "metadata": {},
   "source": [
    "## 1. Install libraries\n"
   ]
  },
  {
   "cell_type": "markdown",
   "metadata": {},
   "source": [
    "#### Installing libraries IN !!!TERMINAL!!!\n",
    "\n",
    "```\n",
    "pip install pandas\n",
    "pip install geopandas\n",
    "pip install requests\n",
    "\n",
    "```\n"
   ]
  },
  {
   "cell_type": "markdown",
   "metadata": {},
   "source": [
    "## 2. Import libraries\n"
   ]
  },
  {
   "cell_type": "code",
   "execution_count": 2,
   "metadata": {},
   "outputs": [
    {
     "name": "stderr",
     "output_type": "stream",
     "text": [
      "/var/folders/ry/9bb7wrz54vq_kn2ytlj6ynzm0000gn/T/ipykernel_68703/1528870275.py:3: DeprecationWarning: \n",
      "Pyarrow will become a required dependency of pandas in the next major release of pandas (pandas 3.0),\n",
      "(to allow more performant data types, such as the Arrow string type, and better interoperability with other libraries)\n",
      "but was not found to be installed on your system.\n",
      "If this would cause problems for you,\n",
      "please provide us feedback at https://github.com/pandas-dev/pandas/issues/54466\n",
      "        \n",
      "  import pandas as pd\n"
     ]
    }
   ],
   "source": [
    "## For working with dataframes\n",
    "\n",
    "import pandas as pd\n",
    "import geopandas as gpd\n",
    "\n",
    "# For working with requests\n",
    "import requests\n",
    "import json"
   ]
  },
  {
   "cell_type": "markdown",
   "metadata": {},
   "source": [
    "## 3. Geocoding basics\n"
   ]
  },
  {
   "cell_type": "markdown",
   "metadata": {},
   "source": [
    "### Defining parameters for geocoding\n"
   ]
  },
  {
   "cell_type": "code",
   "execution_count": 55,
   "metadata": {},
   "outputs": [],
   "source": [
    "API_KEY = 'pk.eyJ1IjoiYmVsa2FtaXIiLCJhIjoiY2t1d2h0cmM2MG8wYTJ3cWY3Y21zZmQ3ZCJ9.4r8LDCKXDdlEa0Rr8FnLUQ' \n",
    "\n",
    "params = {\n",
    "    'access_token': API_KEY,\n",
    "    'autocomplete': 'false', # Disable address autocompletion\n",
    "    'limit': 1, # Limit the number of results to 1\n",
    "    'types': 'address', # Specify the address type\n",
    "    'country': 'RU', # Limit the search to Russia only\n",
    "    'language': 'ru', # Response language\n",
    "    }\n",
    "\n",
    "sample_address = \"Москва, Волхонка, д.12\"\n",
    "\n",
    "url = 'https://api.mapbox.com/geocoding/v5/mapbox.places/{}.json'.format(sample_address)\n"
   ]
  },
  {
   "cell_type": "markdown",
   "metadata": {},
   "source": [
    "#### Creating a get request\n"
   ]
  },
  {
   "cell_type": "code",
   "execution_count": 56,
   "metadata": {},
   "outputs": [],
   "source": [
    "response = requests.get(url, params=params)"
   ]
  },
  {
   "cell_type": "markdown",
   "metadata": {},
   "source": [
    "#### Exploring response\n"
   ]
  },
  {
   "cell_type": "code",
   "execution_count": 57,
   "metadata": {},
   "outputs": [
    {
     "name": "stdout",
     "output_type": "stream",
     "text": [
      "200\n",
      "{'type': 'FeatureCollection', 'query': ['обл', 'иркутская', 'г', 'братск', 'ул', 'студенческая', 'д', '18'], 'features': [{'id': 'address.2535955410048640', 'type': 'Feature', 'place_type': ['address'], 'relevance': 0.42563, 'properties': {'accuracy': 'street', 'mapbox_id': 'dXJuOm1ieGFkcjplNjI5ODg5OC0wN2U4LTRiYTctOWY1YS1mZDIwYTI1MWVmZjA'}, 'text_ru': 'Иркутская Улица', 'place_name_ru': 'Россия, Иркутская область, Братск, 665776, Иркутская Улица', 'text': 'Иркутская Улица', 'place_name': 'Россия, Иркутская область, Братск, 665776, Иркутская Улица', 'center': [101.908205271792, 56.2792203], 'geometry': {'type': 'Point', 'coordinates': [101.908205271792, 56.2792203]}, 'context': [{'id': 'postcode.303509186', 'mapbox_id': 'dXJuOm1ieHBsYzpFaGN1d2c', 'text_ru': '665776', 'text': '665776'}, {'id': 'place.18204866', 'mapbox_id': 'dXJuOm1ieHBsYzpBUlhJd2c', 'wikidata': 'Q132732', 'text_ru': 'Братск', 'language_ru': 'ru', 'text': 'Братск', 'language': 'ru'}, {'id': 'region.591042', 'mapbox_id': 'dXJuOm1ieHBsYzpDUVRD', 'wikidata': 'Q6585', 'short_code': 'RU-IRK', 'text_ru': 'Иркутская область', 'language_ru': 'ru', 'text': 'Иркутская область', 'language': 'ru'}, {'id': 'country.8898', 'mapbox_id': 'dXJuOm1ieHBsYzpJc0k', 'wikidata': 'Q159', 'short_code': 'ru', 'text_ru': 'Россия', 'language_ru': 'ru', 'text': 'Россия', 'language': 'ru'}]}], 'attribution': 'NOTICE: © 2024 Mapbox and its suppliers. All rights reserved. Use of this data is subject to the Mapbox Terms of Service (https://www.mapbox.com/about/maps/). This response and the information it contains may not be retained. POI(s) provided by Foursquare.'}\n"
     ]
    }
   ],
   "source": [
    "response\n",
    "print(response.status_code)\n",
    "print(response.json())"
   ]
  },
  {
   "cell_type": "markdown",
   "metadata": {},
   "source": [
    "#### Saving response data to a variable\n"
   ]
  },
  {
   "cell_type": "code",
   "execution_count": 58,
   "metadata": {},
   "outputs": [],
   "source": [
    "data = response.json()"
   ]
  },
  {
   "cell_type": "markdown",
   "metadata": {},
   "source": [
    "#### Extracting coordinates from data\n"
   ]
  },
  {
   "cell_type": "code",
   "execution_count": 60,
   "metadata": {},
   "outputs": [
    {
     "name": "stdout",
     "output_type": "stream",
     "text": [
      "101.908205271792 56.2792203\n"
     ]
    }
   ],
   "source": [
    "coordinates = data['features'][0]['center']\n",
    "longitude, latitude = coordinates\n",
    "print(longitude, latitude)"
   ]
  },
  {
   "cell_type": "markdown",
   "metadata": {},
   "source": [
    "## 4.Geocoding addresses from a Data Table\n"
   ]
  },
  {
   "cell_type": "markdown",
   "metadata": {},
   "source": [
    "#### Reading data\n"
   ]
  },
  {
   "cell_type": "code",
   "execution_count": 61,
   "metadata": {},
   "outputs": [],
   "source": [
    "df = pd.read_csv('./df_sample.csv', sep=';', on_bad_lines='skip')\n",
    "address_column = 'address' "
   ]
  },
  {
   "cell_type": "code",
   "execution_count": 62,
   "metadata": {},
   "outputs": [
    {
     "data": {
      "text/html": [
       "<div>\n",
       "<style scoped>\n",
       "    .dataframe tbody tr th:only-of-type {\n",
       "        vertical-align: middle;\n",
       "    }\n",
       "\n",
       "    .dataframe tbody tr th {\n",
       "        vertical-align: top;\n",
       "    }\n",
       "\n",
       "    .dataframe thead th {\n",
       "        text-align: right;\n",
       "    }\n",
       "</style>\n",
       "<table border=\"1\" class=\"dataframe\">\n",
       "  <thead>\n",
       "    <tr style=\"text-align: right;\">\n",
       "      <th></th>\n",
       "      <th>id</th>\n",
       "      <th>address</th>\n",
       "    </tr>\n",
       "  </thead>\n",
       "  <tbody>\n",
       "    <tr>\n",
       "      <th>0</th>\n",
       "      <td>6482827</td>\n",
       "      <td>обл. Иркутская, г. Братск, ул. 25-летия Братск...</td>\n",
       "    </tr>\n",
       "    <tr>\n",
       "      <th>1</th>\n",
       "      <td>6482828</td>\n",
       "      <td>обл. Иркутская, г. Братск, ул. 25-летия Братск...</td>\n",
       "    </tr>\n",
       "    <tr>\n",
       "      <th>2</th>\n",
       "      <td>6482829</td>\n",
       "      <td>обл. Иркутская, г. Братск, ул. 25-летия Братск...</td>\n",
       "    </tr>\n",
       "    <tr>\n",
       "      <th>3</th>\n",
       "      <td>6690904</td>\n",
       "      <td>обл. Иркутская, г. Братск, ул. 25-летия Братск...</td>\n",
       "    </tr>\n",
       "    <tr>\n",
       "      <th>4</th>\n",
       "      <td>9155620</td>\n",
       "      <td>обл. Иркутская, г. Братск, ул. 25-летия Братск...</td>\n",
       "    </tr>\n",
       "  </tbody>\n",
       "</table>\n",
       "</div>"
      ],
      "text/plain": [
       "        id                                            address\n",
       "0  6482827  обл. Иркутская, г. Братск, ул. 25-летия Братск...\n",
       "1  6482828  обл. Иркутская, г. Братск, ул. 25-летия Братск...\n",
       "2  6482829  обл. Иркутская, г. Братск, ул. 25-летия Братск...\n",
       "3  6690904  обл. Иркутская, г. Братск, ул. 25-летия Братск...\n",
       "4  9155620  обл. Иркутская, г. Братск, ул. 25-летия Братск..."
      ]
     },
     "execution_count": 62,
     "metadata": {},
     "output_type": "execute_result"
    }
   ],
   "source": [
    "df.head()"
   ]
  },
  {
   "cell_type": "markdown",
   "metadata": {},
   "source": [
    "#### Creating columns for coordinates\n"
   ]
  },
  {
   "cell_type": "code",
   "execution_count": 63,
   "metadata": {},
   "outputs": [],
   "source": [
    "df['longitude'] = ''\n",
    "df['latitude'] = ''"
   ]
  },
  {
   "cell_type": "markdown",
   "metadata": {},
   "source": [
    "#### Geocoding addresses from the table\n"
   ]
  },
  {
   "cell_type": "code",
   "execution_count": 64,
   "metadata": {},
   "outputs": [],
   "source": [
    "for index, row in df.iterrows():\n",
    "    address = row['address']\n",
    "    url = f'https://api.mapbox.com/geocoding/v5/mapbox.places/{address}.json'\n",
    "    try:\n",
    "        response = requests.get(url, params=params)\n",
    "        data = response.json()\n",
    "        coordinates = data['features'][0]['center']\n",
    "        longitude, latitude = coordinates\n",
    "        df.at[index, 'longitude'] = longitude\n",
    "        df.at[index, 'latitude'] = latitude\n",
    "    except Exception as e:\n",
    "            print(f\"Error with {address}: {e}\")"
   ]
  },
  {
   "cell_type": "markdown",
   "metadata": {},
   "source": [
    "#### Saving result to a csv file\n"
   ]
  },
  {
   "cell_type": "code",
   "execution_count": 65,
   "metadata": {},
   "outputs": [],
   "source": [
    "df.to_csv('./df_sample_geocoded.csv', index=False, index_label=False)"
   ]
  },
  {
   "cell_type": "markdown",
   "metadata": {},
   "source": [
    "#### Function to geocode adresses from a csv file\n"
   ]
  },
  {
   "cell_type": "code",
   "execution_count": null,
   "metadata": {},
   "outputs": [],
   "source": [
    "def geocode_addresses(csv_file, api_key):\n",
    "    # Loading CSV file\n",
    "    df = pd.read_csv(csv_file, delimiter=';', encoding='utf-8')\n",
    "    \n",
    "    ## Creating empty columns for coordinates\n",
    "    df['longitude'] = ''\n",
    "    df['latitude'] = ''\n",
    "\n",
    "    # Defining parameters\n",
    "    params = {\n",
    "        'access_token': api_key,\n",
    "        'autocomplete': 'false',\n",
    "        'limit': 1\n",
    "        }\n",
    "    \n",
    "    # Geocoding addresses\n",
    "    for index, row in df.iterrows():\n",
    "        address = row['address']\n",
    "        url = f'https://api.mapbox.com/geocoding/v5/mapbox.places/{address}.json'\n",
    " \n",
    "        try:\n",
    "            response = requests.get(url, params=params)\n",
    "            data = response.json()\n",
    "            coordinates = data['features'][0]['center']\n",
    "            longitude, latitude = coordinates\n",
    "            df.at[index, 'longitude'] = longitude\n",
    "            df.at[index, 'latitude'] = latitude\n",
    "        except Exception as e:\n",
    "            print(f\"Error with {address}: {e}\")\n",
    "\n",
    "    # Saving the results back to the CSV file\n",
    "    df.to_csv(f'{csv_file}_geocoded', sep=';', index=False, encoding='utf-8')\n",
    "    print(\"Geocoding completed. Results saved to file\")\n"
   ]
  },
  {
   "cell_type": "markdown",
   "metadata": {},
   "source": [
    "#### Geocoding using functions 'geocode_addresses'\n"
   ]
  },
  {
   "cell_type": "code",
   "execution_count": null,
   "metadata": {},
   "outputs": [],
   "source": [
    "geocode_addresses('df_sample.csv', API_KEY)"
   ]
  },
  {
   "cell_type": "markdown",
   "metadata": {},
   "source": [
    "# FUN\n"
   ]
  },
  {
   "cell_type": "markdown",
   "metadata": {},
   "source": [
    "## 5.Creating a spatial point layer form a data frame with coordinates\n"
   ]
  },
  {
   "cell_type": "markdown",
   "metadata": {},
   "source": [
    "#### Creating GeoDataFrame\n"
   ]
  },
  {
   "cell_type": "code",
   "execution_count": 70,
   "metadata": {},
   "outputs": [],
   "source": [
    "gdf = gpd.GeoDataFrame(df, geometry=gpd.points_from_xy(df.longitude, df.latitude), crs=\"EPSG:4326\")"
   ]
  },
  {
   "cell_type": "code",
   "execution_count": 71,
   "metadata": {},
   "outputs": [
    {
     "data": {
      "text/plain": [
       "geopandas.geodataframe.GeoDataFrame"
      ]
     },
     "execution_count": 71,
     "metadata": {},
     "output_type": "execute_result"
    }
   ],
   "source": [
    "type(gdf)"
   ]
  },
  {
   "cell_type": "markdown",
   "metadata": {},
   "source": [
    "## 6. View the result on a web map\n"
   ]
  },
  {
   "cell_type": "markdown",
   "metadata": {},
   "source": [
    "Import library for a web-map\n"
   ]
  },
  {
   "cell_type": "code",
   "execution_count": 72,
   "metadata": {},
   "outputs": [],
   "source": [
    "import folium"
   ]
  },
  {
   "cell_type": "markdown",
   "metadata": {},
   "source": [
    "Create web-map box\n"
   ]
  },
  {
   "cell_type": "code",
   "execution_count": 74,
   "metadata": {},
   "outputs": [
    {
     "data": {
      "text/html": [
       "<div style=\"width:100%;\"><div style=\"position:relative;width:100%;height:0;padding-bottom:60%;\"><span style=\"color:#565656\">Make this Notebook Trusted to load map: File -> Trust Notebook</span><iframe srcdoc=\"&lt;!DOCTYPE html&gt;\n",
       "&lt;html&gt;\n",
       "&lt;head&gt;\n",
       "    \n",
       "    &lt;meta http-equiv=&quot;content-type&quot; content=&quot;text/html; charset=UTF-8&quot; /&gt;\n",
       "    \n",
       "        &lt;script&gt;\n",
       "            L_NO_TOUCH = false;\n",
       "            L_DISABLE_3D = false;\n",
       "        &lt;/script&gt;\n",
       "    \n",
       "    &lt;style&gt;html, body {width: 100%;height: 100%;margin: 0;padding: 0;}&lt;/style&gt;\n",
       "    &lt;style&gt;#map {position:absolute;top:0;bottom:0;right:0;left:0;}&lt;/style&gt;\n",
       "    &lt;script src=&quot;https://cdn.jsdelivr.net/npm/leaflet@1.9.3/dist/leaflet.js&quot;&gt;&lt;/script&gt;\n",
       "    &lt;script src=&quot;https://code.jquery.com/jquery-3.7.1.min.js&quot;&gt;&lt;/script&gt;\n",
       "    &lt;script src=&quot;https://cdn.jsdelivr.net/npm/bootstrap@5.2.2/dist/js/bootstrap.bundle.min.js&quot;&gt;&lt;/script&gt;\n",
       "    &lt;script src=&quot;https://cdnjs.cloudflare.com/ajax/libs/Leaflet.awesome-markers/2.0.2/leaflet.awesome-markers.js&quot;&gt;&lt;/script&gt;\n",
       "    &lt;link rel=&quot;stylesheet&quot; href=&quot;https://cdn.jsdelivr.net/npm/leaflet@1.9.3/dist/leaflet.css&quot;/&gt;\n",
       "    &lt;link rel=&quot;stylesheet&quot; href=&quot;https://cdn.jsdelivr.net/npm/bootstrap@5.2.2/dist/css/bootstrap.min.css&quot;/&gt;\n",
       "    &lt;link rel=&quot;stylesheet&quot; href=&quot;https://netdna.bootstrapcdn.com/bootstrap/3.0.0/css/bootstrap.min.css&quot;/&gt;\n",
       "    &lt;link rel=&quot;stylesheet&quot; href=&quot;https://cdn.jsdelivr.net/npm/@fortawesome/fontawesome-free@6.2.0/css/all.min.css&quot;/&gt;\n",
       "    &lt;link rel=&quot;stylesheet&quot; href=&quot;https://cdnjs.cloudflare.com/ajax/libs/Leaflet.awesome-markers/2.0.2/leaflet.awesome-markers.css&quot;/&gt;\n",
       "    &lt;link rel=&quot;stylesheet&quot; href=&quot;https://cdn.jsdelivr.net/gh/python-visualization/folium/folium/templates/leaflet.awesome.rotate.min.css&quot;/&gt;\n",
       "    \n",
       "            &lt;meta name=&quot;viewport&quot; content=&quot;width=device-width,\n",
       "                initial-scale=1.0, maximum-scale=1.0, user-scalable=no&quot; /&gt;\n",
       "            &lt;style&gt;\n",
       "                #map_a3ca4421a506ae81f209b7c94757d98c {\n",
       "                    position: relative;\n",
       "                    width: 100.0%;\n",
       "                    height: 100.0%;\n",
       "                    left: 0.0%;\n",
       "                    top: 0.0%;\n",
       "                }\n",
       "                .leaflet-container { font-size: 1rem; }\n",
       "            &lt;/style&gt;\n",
       "        \n",
       "    \n",
       "                    &lt;style&gt;\n",
       "                        .foliumtooltip {\n",
       "                            \n",
       "                        }\n",
       "                       .foliumtooltip table{\n",
       "                            margin: auto;\n",
       "                        }\n",
       "                        .foliumtooltip tr{\n",
       "                            text-align: left;\n",
       "                        }\n",
       "                        .foliumtooltip th{\n",
       "                            padding: 2px; padding-right: 8px;\n",
       "                        }\n",
       "                    &lt;/style&gt;\n",
       "            \n",
       "&lt;/head&gt;\n",
       "&lt;body&gt;\n",
       "    \n",
       "    \n",
       "            &lt;div class=&quot;folium-map&quot; id=&quot;map_a3ca4421a506ae81f209b7c94757d98c&quot; &gt;&lt;/div&gt;\n",
       "        \n",
       "&lt;/body&gt;\n",
       "&lt;script&gt;\n",
       "    \n",
       "    \n",
       "            var map_a3ca4421a506ae81f209b7c94757d98c = L.map(\n",
       "                &quot;map_a3ca4421a506ae81f209b7c94757d98c&quot;,\n",
       "                {\n",
       "                    center: [56.232552424999994, 101.7544176658075],\n",
       "                    crs: L.CRS.EPSG3857,\n",
       "                    zoom: 10,\n",
       "                    zoomControl: true,\n",
       "                    preferCanvas: false,\n",
       "                }\n",
       "            );\n",
       "            L.control.scale().addTo(map_a3ca4421a506ae81f209b7c94757d98c);\n",
       "\n",
       "            \n",
       "\n",
       "        \n",
       "    \n",
       "            var tile_layer_7a7bcd6266e203508675445a7e183370 = L.tileLayer(\n",
       "                &quot;https://tile.openstreetmap.org/{z}/{x}/{y}.png&quot;,\n",
       "                {&quot;attribution&quot;: &quot;\\u0026copy; \\u003ca href=\\&quot;https://www.openstreetmap.org/copyright\\&quot;\\u003eOpenStreetMap\\u003c/a\\u003e contributors&quot;, &quot;detectRetina&quot;: false, &quot;maxNativeZoom&quot;: 19, &quot;maxZoom&quot;: 19, &quot;minZoom&quot;: 0, &quot;noWrap&quot;: false, &quot;opacity&quot;: 1, &quot;subdomains&quot;: &quot;abc&quot;, &quot;tms&quot;: false}\n",
       "            );\n",
       "        \n",
       "    \n",
       "            tile_layer_7a7bcd6266e203508675445a7e183370.addTo(map_a3ca4421a506ae81f209b7c94757d98c);\n",
       "        \n",
       "    \n",
       "            map_a3ca4421a506ae81f209b7c94757d98c.fitBounds(\n",
       "                [[56.1697286, 101.600630059823], [56.29537625, 101.908205271792]],\n",
       "                {}\n",
       "            );\n",
       "        \n",
       "    \n",
       "        function geo_json_4d15069ce11efeee5a6bf19320f214ae_styler(feature) {\n",
       "            switch(feature.id) {\n",
       "                default:\n",
       "                    return {&quot;fillOpacity&quot;: 0.5, &quot;weight&quot;: 2};\n",
       "            }\n",
       "        }\n",
       "        function geo_json_4d15069ce11efeee5a6bf19320f214ae_highlighter(feature) {\n",
       "            switch(feature.id) {\n",
       "                default:\n",
       "                    return {&quot;fillOpacity&quot;: 0.75};\n",
       "            }\n",
       "        }\n",
       "        function geo_json_4d15069ce11efeee5a6bf19320f214ae_pointToLayer(feature, latlng) {\n",
       "            var opts = {&quot;bubblingMouseEvents&quot;: true, &quot;color&quot;: &quot;#3388ff&quot;, &quot;dashArray&quot;: null, &quot;dashOffset&quot;: null, &quot;fill&quot;: true, &quot;fillColor&quot;: &quot;#3388ff&quot;, &quot;fillOpacity&quot;: 0.2, &quot;fillRule&quot;: &quot;evenodd&quot;, &quot;lineCap&quot;: &quot;round&quot;, &quot;lineJoin&quot;: &quot;round&quot;, &quot;opacity&quot;: 1.0, &quot;radius&quot;: 2, &quot;stroke&quot;: true, &quot;weight&quot;: 3};\n",
       "            \n",
       "            let style = geo_json_4d15069ce11efeee5a6bf19320f214ae_styler(feature)\n",
       "            Object.assign(opts, style)\n",
       "            \n",
       "            return new L.CircleMarker(latlng, opts)\n",
       "        }\n",
       "\n",
       "        function geo_json_4d15069ce11efeee5a6bf19320f214ae_onEachFeature(feature, layer) {\n",
       "            layer.on({\n",
       "                mouseout: function(e) {\n",
       "                    if(typeof e.target.setStyle === &quot;function&quot;){\n",
       "                        geo_json_4d15069ce11efeee5a6bf19320f214ae.resetStyle(e.target);\n",
       "                    }\n",
       "                },\n",
       "                mouseover: function(e) {\n",
       "                    if(typeof e.target.setStyle === &quot;function&quot;){\n",
       "                        const highlightStyle = geo_json_4d15069ce11efeee5a6bf19320f214ae_highlighter(e.target.feature)\n",
       "                        e.target.setStyle(highlightStyle);\n",
       "                    }\n",
       "                },\n",
       "            });\n",
       "        };\n",
       "        var geo_json_4d15069ce11efeee5a6bf19320f214ae = L.geoJson(null, {\n",
       "                onEachFeature: geo_json_4d15069ce11efeee5a6bf19320f214ae_onEachFeature,\n",
       "            \n",
       "                style: geo_json_4d15069ce11efeee5a6bf19320f214ae_styler,\n",
       "                pointToLayer: geo_json_4d15069ce11efeee5a6bf19320f214ae_pointToLayer,\n",
       "        });\n",
       "\n",
       "        function geo_json_4d15069ce11efeee5a6bf19320f214ae_add (data) {\n",
       "            geo_json_4d15069ce11efeee5a6bf19320f214ae\n",
       "                .addData(data);\n",
       "        }\n",
       "            geo_json_4d15069ce11efeee5a6bf19320f214ae_add({&quot;bbox&quot;: [101.600630059823, 56.1697286, 101.908205271792, 56.29537625], &quot;features&quot;: [{&quot;bbox&quot;: [101.7276836, 56.29537625, 101.7276836, 56.29537625], &quot;geometry&quot;: {&quot;coordinates&quot;: [101.7276836, 56.29537625], &quot;type&quot;: &quot;Point&quot;}, &quot;id&quot;: &quot;0&quot;, &quot;properties&quot;: {&quot;address&quot;: &quot;\\u043e\\u0431\\u043b. \\u0418\\u0440\\u043a\\u0443\\u0442\\u0441\\u043a\\u0430\\u044f, \\u0433. \\u0411\\u0440\\u0430\\u0442\\u0441\\u043a, \\u0443\\u043b. 25-\\u043b\\u0435\\u0442\\u0438\\u044f \\u0411\\u0440\\u0430\\u0442\\u0441\\u043a\\u0433\\u044d\\u0441\\u0441\\u0442\\u0440\\u043e\\u044f, \\u0434. 13 \\&quot;\\u0411\\&quot;&quot;, &quot;id&quot;: 6482827, &quot;latitude&quot;: 56.29537625, &quot;longitude&quot;: 101.7276836}, &quot;type&quot;: &quot;Feature&quot;}, {&quot;bbox&quot;: [101.7276836, 56.29537625, 101.7276836, 56.29537625], &quot;geometry&quot;: {&quot;coordinates&quot;: [101.7276836, 56.29537625], &quot;type&quot;: &quot;Point&quot;}, &quot;id&quot;: &quot;1&quot;, &quot;properties&quot;: {&quot;address&quot;: &quot;\\u043e\\u0431\\u043b. \\u0418\\u0440\\u043a\\u0443\\u0442\\u0441\\u043a\\u0430\\u044f, \\u0433. \\u0411\\u0440\\u0430\\u0442\\u0441\\u043a, \\u0443\\u043b. 25-\\u043b\\u0435\\u0442\\u0438\\u044f \\u0411\\u0440\\u0430\\u0442\\u0441\\u043a\\u0433\\u044d\\u0441\\u0441\\u0442\\u0440\\u043e\\u044f, \\u0434. 15 \\&quot;\\u0411\\&quot;&quot;, &quot;id&quot;: 6482828, &quot;latitude&quot;: 56.29537625, &quot;longitude&quot;: 101.7276836}, &quot;type&quot;: &quot;Feature&quot;}, {&quot;bbox&quot;: [101.7276836, 56.29537625, 101.7276836, 56.29537625], &quot;geometry&quot;: {&quot;coordinates&quot;: [101.7276836, 56.29537625], &quot;type&quot;: &quot;Point&quot;}, &quot;id&quot;: &quot;2&quot;, &quot;properties&quot;: {&quot;address&quot;: &quot;\\u043e\\u0431\\u043b. \\u0418\\u0440\\u043a\\u0443\\u0442\\u0441\\u043a\\u0430\\u044f, \\u0433. \\u0411\\u0440\\u0430\\u0442\\u0441\\u043a, \\u0443\\u043b. 25-\\u043b\\u0435\\u0442\\u0438\\u044f \\u0411\\u0440\\u0430\\u0442\\u0441\\u043a\\u0433\\u044d\\u0441\\u0441\\u0442\\u0440\\u043e\\u044f, \\u0434. 17&quot;, &quot;id&quot;: 6482829, &quot;latitude&quot;: 56.29537625, &quot;longitude&quot;: 101.7276836}, &quot;type&quot;: &quot;Feature&quot;}, {&quot;bbox&quot;: [101.7276836, 56.29537625, 101.7276836, 56.29537625], &quot;geometry&quot;: {&quot;coordinates&quot;: [101.7276836, 56.29537625], &quot;type&quot;: &quot;Point&quot;}, &quot;id&quot;: &quot;3&quot;, &quot;properties&quot;: {&quot;address&quot;: &quot;\\u043e\\u0431\\u043b. \\u0418\\u0440\\u043a\\u0443\\u0442\\u0441\\u043a\\u0430\\u044f, \\u0433. \\u0411\\u0440\\u0430\\u0442\\u0441\\u043a, \\u0443\\u043b. 25-\\u043b\\u0435\\u0442\\u0438\\u044f \\u0411\\u0440\\u0430\\u0442\\u0441\\u043a\\u0433\\u044d\\u0441\\u0441\\u0442\\u0440\\u043e\\u044f, \\u0434. 19 \\&quot;\\u0411\\&quot;&quot;, &quot;id&quot;: 6690904, &quot;latitude&quot;: 56.29537625, &quot;longitude&quot;: 101.7276836}, &quot;type&quot;: &quot;Feature&quot;}, {&quot;bbox&quot;: [101.7276836, 56.29537625, 101.7276836, 56.29537625], &quot;geometry&quot;: {&quot;coordinates&quot;: [101.7276836, 56.29537625], &quot;type&quot;: &quot;Point&quot;}, &quot;id&quot;: &quot;4&quot;, &quot;properties&quot;: {&quot;address&quot;: &quot;\\u043e\\u0431\\u043b. \\u0418\\u0440\\u043a\\u0443\\u0442\\u0441\\u043a\\u0430\\u044f, \\u0433. \\u0411\\u0440\\u0430\\u0442\\u0441\\u043a, \\u0443\\u043b. 25-\\u043b\\u0435\\u0442\\u0438\\u044f \\u0411\\u0440\\u0430\\u0442\\u0441\\u043a\\u0433\\u044d\\u0441\\u0441\\u0442\\u0440\\u043e\\u044f, \\u0434. 20&quot;, &quot;id&quot;: 9155620, &quot;latitude&quot;: 56.29537625, &quot;longitude&quot;: 101.7276836}, &quot;type&quot;: &quot;Feature&quot;}, {&quot;bbox&quot;: [101.7276836, 56.29537625, 101.7276836, 56.29537625], &quot;geometry&quot;: {&quot;coordinates&quot;: [101.7276836, 56.29537625], &quot;type&quot;: &quot;Point&quot;}, &quot;id&quot;: &quot;5&quot;, &quot;properties&quot;: {&quot;address&quot;: &quot;\\u043e\\u0431\\u043b. \\u0418\\u0440\\u043a\\u0443\\u0442\\u0441\\u043a\\u0430\\u044f, \\u0433. \\u0411\\u0440\\u0430\\u0442\\u0441\\u043a, \\u0443\\u043b. 25-\\u043b\\u0435\\u0442\\u0438\\u044f \\u0411\\u0440\\u0430\\u0442\\u0441\\u043a\\u0433\\u044d\\u0441\\u0441\\u0442\\u0440\\u043e\\u044f, \\u0434. 20&quot;, &quot;id&quot;: 9155592, &quot;latitude&quot;: 56.29537625, &quot;longitude&quot;: 101.7276836}, &quot;type&quot;: &quot;Feature&quot;}, {&quot;bbox&quot;: [101.72706395523, 56.29027845, 101.72706395523, 56.29027845], &quot;geometry&quot;: {&quot;coordinates&quot;: [101.72706395523, 56.29027845], &quot;type&quot;: &quot;Point&quot;}, &quot;id&quot;: &quot;6&quot;, &quot;properties&quot;: {&quot;address&quot;: &quot;\\u043e\\u0431\\u043b. \\u0418\\u0440\\u043a\\u0443\\u0442\\u0441\\u043a\\u0430\\u044f, \\u0433. \\u0411\\u0440\\u0430\\u0442\\u0441\\u043a, \\u0443\\u043b. 2-\\u044f \\u041f\\u0430\\u0440\\u043a\\u043e\\u0432\\u0430\\u044f, \\u0434. 2&quot;, &quot;id&quot;: 6677977, &quot;latitude&quot;: 56.29027845, &quot;longitude&quot;: 101.72706395523}, &quot;type&quot;: &quot;Feature&quot;}, {&quot;bbox&quot;: [101.72706395523, 56.29027845, 101.72706395523, 56.29027845], &quot;geometry&quot;: {&quot;coordinates&quot;: [101.72706395523, 56.29027845], &quot;type&quot;: &quot;Point&quot;}, &quot;id&quot;: &quot;7&quot;, &quot;properties&quot;: {&quot;address&quot;: &quot;\\u043e\\u0431\\u043b. \\u0418\\u0440\\u043a\\u0443\\u0442\\u0441\\u043a\\u0430\\u044f, \\u0433. \\u0411\\u0440\\u0430\\u0442\\u0441\\u043a, \\u0443\\u043b. 2-\\u044f \\u041f\\u0430\\u0440\\u043a\\u043e\\u0432\\u0430\\u044f, \\u0434. 10&quot;, &quot;id&quot;: 6482841, &quot;latitude&quot;: 56.29027845, &quot;longitude&quot;: 101.72706395523}, &quot;type&quot;: &quot;Feature&quot;}, {&quot;bbox&quot;: [101.600630059823, 56.17887785, 101.600630059823, 56.17887785], &quot;geometry&quot;: {&quot;coordinates&quot;: [101.600630059823, 56.17887785], &quot;type&quot;: &quot;Point&quot;}, &quot;id&quot;: &quot;8&quot;, &quot;properties&quot;: {&quot;address&quot;: &quot;\\u043e\\u0431\\u043b. \\u0418\\u0440\\u043a\\u0443\\u0442\\u0441\\u043a\\u0430\\u044f, \\u0433. \\u0411\\u0440\\u0430\\u0442\\u0441\\u043a, \\u0443\\u043b. 40 \\u043b\\u0435\\u0442 \\u041f\\u043e\\u0431\\u0435\\u0434\\u044b, \\u0434. 4&quot;, &quot;id&quot;: 6482819, &quot;latitude&quot;: 56.17887785, &quot;longitude&quot;: 101.600630059823}, &quot;type&quot;: &quot;Feature&quot;}, {&quot;bbox&quot;: [101.600630059823, 56.17887785, 101.600630059823, 56.17887785], &quot;geometry&quot;: {&quot;coordinates&quot;: [101.600630059823, 56.17887785], &quot;type&quot;: &quot;Point&quot;}, &quot;id&quot;: &quot;9&quot;, &quot;properties&quot;: {&quot;address&quot;: &quot;\\u043e\\u0431\\u043b. \\u0418\\u0440\\u043a\\u0443\\u0442\\u0441\\u043a\\u0430\\u044f, \\u0433. \\u0411\\u0440\\u0430\\u0442\\u0441\\u043a, \\u0443\\u043b. 40 \\u043b\\u0435\\u0442 \\u041f\\u043e\\u0431\\u0435\\u0434\\u044b, \\u0434. 8&quot;, &quot;id&quot;: 8939469, &quot;latitude&quot;: 56.17887785, &quot;longitude&quot;: 101.600630059823}, &quot;type&quot;: &quot;Feature&quot;}, {&quot;bbox&quot;: [101.600630059823, 56.17887785, 101.600630059823, 56.17887785], &quot;geometry&quot;: {&quot;coordinates&quot;: [101.600630059823, 56.17887785], &quot;type&quot;: &quot;Point&quot;}, &quot;id&quot;: &quot;10&quot;, &quot;properties&quot;: {&quot;address&quot;: &quot;\\u043e\\u0431\\u043b. \\u0418\\u0440\\u043a\\u0443\\u0442\\u0441\\u043a\\u0430\\u044f, \\u0433. \\u0411\\u0440\\u0430\\u0442\\u0441\\u043a, \\u0443\\u043b. 40 \\u043b\\u0435\\u0442 \\u041f\\u043e\\u0431\\u0435\\u0434\\u044b, \\u0434. 10&quot;, &quot;id&quot;: 8939470, &quot;latitude&quot;: 56.17887785, &quot;longitude&quot;: 101.600630059823}, &quot;type&quot;: &quot;Feature&quot;}, {&quot;bbox&quot;: [101.600630059823, 56.17887785, 101.600630059823, 56.17887785], &quot;geometry&quot;: {&quot;coordinates&quot;: [101.600630059823, 56.17887785], &quot;type&quot;: &quot;Point&quot;}, &quot;id&quot;: &quot;11&quot;, &quot;properties&quot;: {&quot;address&quot;: &quot;\\u043e\\u0431\\u043b. \\u0418\\u0440\\u043a\\u0443\\u0442\\u0441\\u043a\\u0430\\u044f, \\u0433. \\u0411\\u0440\\u0430\\u0442\\u0441\\u043a, \\u0443\\u043b. 40 \\u043b\\u0435\\u0442 \\u041f\\u043e\\u0431\\u0435\\u0434\\u044b, \\u0434. 12&quot;, &quot;id&quot;: 6685120, &quot;latitude&quot;: 56.17887785, &quot;longitude&quot;: 101.600630059823}, &quot;type&quot;: &quot;Feature&quot;}, {&quot;bbox&quot;: [101.600630059823, 56.17887785, 101.600630059823, 56.17887785], &quot;geometry&quot;: {&quot;coordinates&quot;: [101.600630059823, 56.17887785], &quot;type&quot;: &quot;Point&quot;}, &quot;id&quot;: &quot;12&quot;, &quot;properties&quot;: {&quot;address&quot;: &quot;\\u043e\\u0431\\u043b. \\u0418\\u0440\\u043a\\u0443\\u0442\\u0441\\u043a\\u0430\\u044f, \\u0433. \\u0411\\u0440\\u0430\\u0442\\u0441\\u043a, \\u0443\\u043b. 40 \\u043b\\u0435\\u0442 \\u041f\\u043e\\u0431\\u0435\\u0434\\u044b, \\u0434. 14&quot;, &quot;id&quot;: 8939471, &quot;latitude&quot;: 56.17887785, &quot;longitude&quot;: 101.600630059823}, &quot;type&quot;: &quot;Feature&quot;}, {&quot;bbox&quot;: [101.908205271792, 56.2792203, 101.908205271792, 56.2792203], &quot;geometry&quot;: {&quot;coordinates&quot;: [101.908205271792, 56.2792203], &quot;type&quot;: &quot;Point&quot;}, &quot;id&quot;: &quot;13&quot;, &quot;properties&quot;: {&quot;address&quot;: &quot;\\u043e\\u0431\\u043b. \\u0418\\u0440\\u043a\\u0443\\u0442\\u0441\\u043a\\u0430\\u044f, \\u0433. \\u0411\\u0440\\u0430\\u0442\\u0441\\u043a, \\u0443\\u043b. \\u0410\\u043d\\u0433\\u0430\\u0440\\u0441\\u043a\\u0430\\u044f, \\u0434. 47&quot;, &quot;id&quot;: 6482727, &quot;latitude&quot;: 56.2792203, &quot;longitude&quot;: 101.908205271792}, &quot;type&quot;: &quot;Feature&quot;}, {&quot;bbox&quot;: [101.908205271792, 56.2792203, 101.908205271792, 56.2792203], &quot;geometry&quot;: {&quot;coordinates&quot;: [101.908205271792, 56.2792203], &quot;type&quot;: &quot;Point&quot;}, &quot;id&quot;: &quot;14&quot;, &quot;properties&quot;: {&quot;address&quot;: &quot;\\u043e\\u0431\\u043b. \\u0418\\u0440\\u043a\\u0443\\u0442\\u0441\\u043a\\u0430\\u044f, \\u0433. \\u0411\\u0440\\u0430\\u0442\\u0441\\u043a, \\u0443\\u043b. \\u0411\\u0430\\u0439\\u043a\\u0430\\u043b\\u044c\\u0441\\u043a\\u0430\\u044f, \\u0434. 3&quot;, &quot;id&quot;: 9049835, &quot;latitude&quot;: 56.2792203, &quot;longitude&quot;: 101.908205271792}, &quot;type&quot;: &quot;Feature&quot;}, {&quot;bbox&quot;: [101.908205271792, 56.2792203, 101.908205271792, 56.2792203], &quot;geometry&quot;: {&quot;coordinates&quot;: [101.908205271792, 56.2792203], &quot;type&quot;: &quot;Point&quot;}, &quot;id&quot;: &quot;15&quot;, &quot;properties&quot;: {&quot;address&quot;: &quot;\\u043e\\u0431\\u043b. \\u0418\\u0440\\u043a\\u0443\\u0442\\u0441\\u043a\\u0430\\u044f, \\u0433. \\u0411\\u0440\\u0430\\u0442\\u0441\\u043a, \\u0443\\u043b. \\u0411\\u0430\\u0439\\u043a\\u0430\\u043b\\u044c\\u0441\\u043a\\u0430\\u044f, \\u0434. 5&quot;, &quot;id&quot;: 9030256, &quot;latitude&quot;: 56.2792203, &quot;longitude&quot;: 101.908205271792}, &quot;type&quot;: &quot;Feature&quot;}, {&quot;bbox&quot;: [101.908205271792, 56.2792203, 101.908205271792, 56.2792203], &quot;geometry&quot;: {&quot;coordinates&quot;: [101.908205271792, 56.2792203], &quot;type&quot;: &quot;Point&quot;}, &quot;id&quot;: &quot;16&quot;, &quot;properties&quot;: {&quot;address&quot;: &quot;\\u043e\\u0431\\u043b. \\u0418\\u0440\\u043a\\u0443\\u0442\\u0441\\u043a\\u0430\\u044f, \\u0433. \\u0411\\u0440\\u0430\\u0442\\u0441\\u043a, \\u0443\\u043b. \\u0411\\u0430\\u0439\\u043a\\u0430\\u043b\\u044c\\u0441\\u043a\\u0430\\u044f, \\u0434. 6&quot;, &quot;id&quot;: 9049836, &quot;latitude&quot;: 56.2792203, &quot;longitude&quot;: 101.908205271792}, &quot;type&quot;: &quot;Feature&quot;}, {&quot;bbox&quot;: [101.908205271792, 56.2792203, 101.908205271792, 56.2792203], &quot;geometry&quot;: {&quot;coordinates&quot;: [101.908205271792, 56.2792203], &quot;type&quot;: &quot;Point&quot;}, &quot;id&quot;: &quot;17&quot;, &quot;properties&quot;: {&quot;address&quot;: &quot;\\u043e\\u0431\\u043b. \\u0418\\u0440\\u043a\\u0443\\u0442\\u0441\\u043a\\u0430\\u044f, \\u0433. \\u0411\\u0440\\u0430\\u0442\\u0441\\u043a, \\u0443\\u043b. \\u0411\\u0430\\u0439\\u043a\\u0430\\u043b\\u044c\\u0441\\u043a\\u0430\\u044f, \\u0434. 20\\u0410&quot;, &quot;id&quot;: 9321126, &quot;latitude&quot;: 56.2792203, &quot;longitude&quot;: 101.908205271792}, &quot;type&quot;: &quot;Feature&quot;}, {&quot;bbox&quot;: [101.908205271792, 56.2792203, 101.908205271792, 56.2792203], &quot;geometry&quot;: {&quot;coordinates&quot;: [101.908205271792, 56.2792203], &quot;type&quot;: &quot;Point&quot;}, &quot;id&quot;: &quot;18&quot;, &quot;properties&quot;: {&quot;address&quot;: &quot;\\u043e\\u0431\\u043b. \\u0418\\u0440\\u043a\\u0443\\u0442\\u0441\\u043a\\u0430\\u044f, \\u0433. \\u0411\\u0440\\u0430\\u0442\\u0441\\u043a, \\u0443\\u043b. \\u0411\\u0430\\u0439\\u043a\\u0430\\u043b\\u044c\\u0441\\u043a\\u0430\\u044f, \\u0434. 22\\u0410&quot;, &quot;id&quot;: 9323906, &quot;latitude&quot;: 56.2792203, &quot;longitude&quot;: 101.908205271792}, &quot;type&quot;: &quot;Feature&quot;}, {&quot;bbox&quot;: [101.908205271792, 56.2792203, 101.908205271792, 56.2792203], &quot;geometry&quot;: {&quot;coordinates&quot;: [101.908205271792, 56.2792203], &quot;type&quot;: &quot;Point&quot;}, &quot;id&quot;: &quot;19&quot;, &quot;properties&quot;: {&quot;address&quot;: &quot;\\u043e\\u0431\\u043b. \\u0418\\u0440\\u043a\\u0443\\u0442\\u0441\\u043a\\u0430\\u044f, \\u0433. \\u0411\\u0440\\u0430\\u0442\\u0441\\u043a, \\u0443\\u043b. \\u0411\\u0430\\u0439\\u043a\\u0430\\u043b\\u044c\\u0441\\u043a\\u0430\\u044f, \\u0434. 24\\u0410&quot;, &quot;id&quot;: 9323908, &quot;latitude&quot;: 56.2792203, &quot;longitude&quot;: 101.908205271792}, &quot;type&quot;: &quot;Feature&quot;}, {&quot;bbox&quot;: [101.908205271792, 56.2792203, 101.908205271792, 56.2792203], &quot;geometry&quot;: {&quot;coordinates&quot;: [101.908205271792, 56.2792203], &quot;type&quot;: &quot;Point&quot;}, &quot;id&quot;: &quot;20&quot;, &quot;properties&quot;: {&quot;address&quot;: &quot;\\u043e\\u0431\\u043b. \\u0418\\u0440\\u043a\\u0443\\u0442\\u0441\\u043a\\u0430\\u044f, \\u0433. \\u0411\\u0440\\u0430\\u0442\\u0441\\u043a, \\u043f\\u0435\\u0440. \\u0411\\u0440\\u0430\\u0442\\u0441\\u043a\\u0438\\u0439, \\u0434. 22&quot;, &quot;id&quot;: 6482860, &quot;latitude&quot;: 56.2792203, &quot;longitude&quot;: 101.908205271792}, &quot;type&quot;: &quot;Feature&quot;}, {&quot;bbox&quot;: [101.908205271792, 56.2792203, 101.908205271792, 56.2792203], &quot;geometry&quot;: {&quot;coordinates&quot;: [101.908205271792, 56.2792203], &quot;type&quot;: &quot;Point&quot;}, &quot;id&quot;: &quot;21&quot;, &quot;properties&quot;: {&quot;address&quot;: &quot;\\u043e\\u0431\\u043b. \\u0418\\u0440\\u043a\\u0443\\u0442\\u0441\\u043a\\u0430\\u044f, \\u0433. \\u0411\\u0440\\u0430\\u0442\\u0441\\u043a, \\u043f\\u0435\\u0440. \\u0411\\u0440\\u0430\\u0442\\u0441\\u043a\\u0438\\u0439, \\u0434. 26&quot;, &quot;id&quot;: 6482861, &quot;latitude&quot;: 56.2792203, &quot;longitude&quot;: 101.908205271792}, &quot;type&quot;: &quot;Feature&quot;}, {&quot;bbox&quot;: [101.908205271792, 56.2792203, 101.908205271792, 56.2792203], &quot;geometry&quot;: {&quot;coordinates&quot;: [101.908205271792, 56.2792203], &quot;type&quot;: &quot;Point&quot;}, &quot;id&quot;: &quot;22&quot;, &quot;properties&quot;: {&quot;address&quot;: &quot;\\u043e\\u0431\\u043b. \\u0418\\u0440\\u043a\\u0443\\u0442\\u0441\\u043a\\u0430\\u044f, \\u0433. \\u0411\\u0440\\u0430\\u0442\\u0441\\u043a, \\u043f\\u0435\\u0440. \\u0411\\u0440\\u0430\\u0442\\u0441\\u043a\\u0438\\u0439, \\u0434. 28&quot;, &quot;id&quot;: 6482862, &quot;latitude&quot;: 56.2792203, &quot;longitude&quot;: 101.908205271792}, &quot;type&quot;: &quot;Feature&quot;}, {&quot;bbox&quot;: [101.908205271792, 56.2792203, 101.908205271792, 56.2792203], &quot;geometry&quot;: {&quot;coordinates&quot;: [101.908205271792, 56.2792203], &quot;type&quot;: &quot;Point&quot;}, &quot;id&quot;: &quot;23&quot;, &quot;properties&quot;: {&quot;address&quot;: &quot;\\u043e\\u0431\\u043b. \\u0418\\u0440\\u043a\\u0443\\u0442\\u0441\\u043a\\u0430\\u044f, \\u0433. \\u0411\\u0440\\u0430\\u0442\\u0441\\u043a, \\u043f\\u0435\\u0440. \\u0411\\u0440\\u0430\\u0442\\u0441\\u043a\\u0438\\u0439, \\u0434. 30&quot;, &quot;id&quot;: 6482863, &quot;latitude&quot;: 56.2792203, &quot;longitude&quot;: 101.908205271792}, &quot;type&quot;: &quot;Feature&quot;}, {&quot;bbox&quot;: [101.908205271792, 56.2792203, 101.908205271792, 56.2792203], &quot;geometry&quot;: {&quot;coordinates&quot;: [101.908205271792, 56.2792203], &quot;type&quot;: &quot;Point&quot;}, &quot;id&quot;: &quot;24&quot;, &quot;properties&quot;: {&quot;address&quot;: &quot;\\u043e\\u0431\\u043b. \\u0418\\u0440\\u043a\\u0443\\u0442\\u0441\\u043a\\u0430\\u044f, \\u0433. \\u0411\\u0440\\u0430\\u0442\\u0441\\u043a, \\u043f\\u0435\\u0440. \\u0411\\u0440\\u0430\\u0442\\u0441\\u043a\\u0438\\u0439, \\u0434. 34&quot;, &quot;id&quot;: 6690905, &quot;latitude&quot;: 56.2792203, &quot;longitude&quot;: 101.908205271792}, &quot;type&quot;: &quot;Feature&quot;}, {&quot;bbox&quot;: [101.908205271792, 56.2792203, 101.908205271792, 56.2792203], &quot;geometry&quot;: {&quot;coordinates&quot;: [101.908205271792, 56.2792203], &quot;type&quot;: &quot;Point&quot;}, &quot;id&quot;: &quot;25&quot;, &quot;properties&quot;: {&quot;address&quot;: &quot;\\u043e\\u0431\\u043b. \\u0418\\u0440\\u043a\\u0443\\u0442\\u0441\\u043a\\u0430\\u044f, \\u0433. \\u0411\\u0440\\u0430\\u0442\\u0441\\u043a, \\u0443\\u043b. \\u0412\\u0435\\u0441\\u0435\\u043d\\u043d\\u044f\\u044f, \\u0434. 3&quot;, &quot;id&quot;: 6482867, &quot;latitude&quot;: 56.2792203, &quot;longitude&quot;: 101.908205271792}, &quot;type&quot;: &quot;Feature&quot;}, {&quot;bbox&quot;: [101.908205271792, 56.2792203, 101.908205271792, 56.2792203], &quot;geometry&quot;: {&quot;coordinates&quot;: [101.908205271792, 56.2792203], &quot;type&quot;: &quot;Point&quot;}, &quot;id&quot;: &quot;26&quot;, &quot;properties&quot;: {&quot;address&quot;: &quot;\\u043e\\u0431\\u043b. \\u0418\\u0440\\u043a\\u0443\\u0442\\u0441\\u043a\\u0430\\u044f, \\u0433. \\u0411\\u0440\\u0430\\u0442\\u0441\\u043a, \\u0443\\u043b. \\u0412\\u0435\\u0441\\u0435\\u043d\\u043d\\u044f\\u044f, \\u0434. 4&quot;, &quot;id&quot;: 6704186, &quot;latitude&quot;: 56.2792203, &quot;longitude&quot;: 101.908205271792}, &quot;type&quot;: &quot;Feature&quot;}, {&quot;bbox&quot;: [101.908205271792, 56.2792203, 101.908205271792, 56.2792203], &quot;geometry&quot;: {&quot;coordinates&quot;: [101.908205271792, 56.2792203], &quot;type&quot;: &quot;Point&quot;}, &quot;id&quot;: &quot;27&quot;, &quot;properties&quot;: {&quot;address&quot;: &quot;\\u043e\\u0431\\u043b. \\u0418\\u0440\\u043a\\u0443\\u0442\\u0441\\u043a\\u0430\\u044f, \\u0433. \\u0411\\u0440\\u0430\\u0442\\u0441\\u043a, \\u0443\\u043b. \\u0412\\u0435\\u0441\\u0435\\u043d\\u043d\\u044f\\u044f, \\u0434. 9&quot;, &quot;id&quot;: 6482868, &quot;latitude&quot;: 56.2792203, &quot;longitude&quot;: 101.908205271792}, &quot;type&quot;: &quot;Feature&quot;}, {&quot;bbox&quot;: [101.908205271792, 56.2792203, 101.908205271792, 56.2792203], &quot;geometry&quot;: {&quot;coordinates&quot;: [101.908205271792, 56.2792203], &quot;type&quot;: &quot;Point&quot;}, &quot;id&quot;: &quot;28&quot;, &quot;properties&quot;: {&quot;address&quot;: &quot;\\u043e\\u0431\\u043b. \\u0418\\u0440\\u043a\\u0443\\u0442\\u0441\\u043a\\u0430\\u044f, \\u0433. \\u0411\\u0440\\u0430\\u0442\\u0441\\u043a, \\u0443\\u043b. \\u0412\\u0435\\u0441\\u0435\\u043d\\u043d\\u044f\\u044f, \\u0434. 12&quot;, &quot;id&quot;: 6482864, &quot;latitude&quot;: 56.2792203, &quot;longitude&quot;: 101.908205271792}, &quot;type&quot;: &quot;Feature&quot;}, {&quot;bbox&quot;: [101.908205271792, 56.2792203, 101.908205271792, 56.2792203], &quot;geometry&quot;: {&quot;coordinates&quot;: [101.908205271792, 56.2792203], &quot;type&quot;: &quot;Point&quot;}, &quot;id&quot;: &quot;29&quot;, &quot;properties&quot;: {&quot;address&quot;: &quot;\\u043e\\u0431\\u043b. \\u0418\\u0440\\u043a\\u0443\\u0442\\u0441\\u043a\\u0430\\u044f, \\u0433. \\u0411\\u0440\\u0430\\u0442\\u0441\\u043a, \\u0443\\u043b. \\u0412\\u0435\\u0441\\u0435\\u043d\\u043d\\u044f\\u044f, \\u0434. 12&quot;, &quot;id&quot;: 9114502, &quot;latitude&quot;: 56.2792203, &quot;longitude&quot;: 101.908205271792}, &quot;type&quot;: &quot;Feature&quot;}, {&quot;bbox&quot;: [101.908205271792, 56.2792203, 101.908205271792, 56.2792203], &quot;geometry&quot;: {&quot;coordinates&quot;: [101.908205271792, 56.2792203], &quot;type&quot;: &quot;Point&quot;}, &quot;id&quot;: &quot;30&quot;, &quot;properties&quot;: {&quot;address&quot;: &quot;\\u043e\\u0431\\u043b. \\u0418\\u0440\\u043a\\u0443\\u0442\\u0441\\u043a\\u0430\\u044f, \\u0433. \\u0411\\u0440\\u0430\\u0442\\u0441\\u043a, \\u0443\\u043b. \\u0412\\u0435\\u0441\\u0435\\u043d\\u043d\\u044f\\u044f, \\u0434. 14&quot;, &quot;id&quot;: 6482865, &quot;latitude&quot;: 56.2792203, &quot;longitude&quot;: 101.908205271792}, &quot;type&quot;: &quot;Feature&quot;}, {&quot;bbox&quot;: [101.908205271792, 56.2792203, 101.908205271792, 56.2792203], &quot;geometry&quot;: {&quot;coordinates&quot;: [101.908205271792, 56.2792203], &quot;type&quot;: &quot;Point&quot;}, &quot;id&quot;: &quot;31&quot;, &quot;properties&quot;: {&quot;address&quot;: &quot;\\u043e\\u0431\\u043b. \\u0418\\u0440\\u043a\\u0443\\u0442\\u0441\\u043a\\u0430\\u044f, \\u0433. \\u0411\\u0440\\u0430\\u0442\\u0441\\u043a, \\u0443\\u043b. \\u0412\\u0435\\u0441\\u0435\\u043d\\u043d\\u044f\\u044f, \\u0434. 22&quot;, &quot;id&quot;: 6482866, &quot;latitude&quot;: 56.2792203, &quot;longitude&quot;: 101.908205271792}, &quot;type&quot;: &quot;Feature&quot;}, {&quot;bbox&quot;: [101.634549697383, 56.1697286, 101.634549697383, 56.1697286], &quot;geometry&quot;: {&quot;coordinates&quot;: [101.634549697383, 56.1697286], &quot;type&quot;: &quot;Point&quot;}, &quot;id&quot;: &quot;32&quot;, &quot;properties&quot;: {&quot;address&quot;: &quot;\\u043e\\u0431\\u043b. \\u0418\\u0440\\u043a\\u0443\\u0442\\u0441\\u043a\\u0430\\u044f, \\u0433. \\u0411\\u0440\\u0430\\u0442\\u0441\\u043a, \\u0443\\u043b. \\u0412\\u043e\\u0437\\u0440\\u043e\\u0436\\u0434\\u0435\\u043d\\u0438\\u044f, \\u0434. 2&quot;, &quot;id&quot;: 8939472, &quot;latitude&quot;: 56.1697286, &quot;longitude&quot;: 101.634549697383}, &quot;type&quot;: &quot;Feature&quot;}, {&quot;bbox&quot;: [101.634549697383, 56.1697286, 101.634549697383, 56.1697286], &quot;geometry&quot;: {&quot;coordinates&quot;: [101.634549697383, 56.1697286], &quot;type&quot;: &quot;Point&quot;}, &quot;id&quot;: &quot;33&quot;, &quot;properties&quot;: {&quot;address&quot;: &quot;\\u043e\\u0431\\u043b. \\u0418\\u0440\\u043a\\u0443\\u0442\\u0441\\u043a\\u0430\\u044f, \\u0433. \\u0411\\u0440\\u0430\\u0442\\u0441\\u043a, \\u0443\\u043b. \\u0412\\u043e\\u0437\\u0440\\u043e\\u0436\\u0434\\u0435\\u043d\\u0438\\u044f, \\u0434. 3&quot;, &quot;id&quot;: 8939473, &quot;latitude&quot;: 56.1697286, &quot;longitude&quot;: 101.634549697383}, &quot;type&quot;: &quot;Feature&quot;}, {&quot;bbox&quot;: [101.634549697383, 56.1697286, 101.634549697383, 56.1697286], &quot;geometry&quot;: {&quot;coordinates&quot;: [101.634549697383, 56.1697286], &quot;type&quot;: &quot;Point&quot;}, &quot;id&quot;: &quot;34&quot;, &quot;properties&quot;: {&quot;address&quot;: &quot;\\u043e\\u0431\\u043b. \\u0418\\u0440\\u043a\\u0443\\u0442\\u0441\\u043a\\u0430\\u044f, \\u0433. \\u0411\\u0440\\u0430\\u0442\\u0441\\u043a, \\u0443\\u043b. \\u0412\\u043e\\u0437\\u0440\\u043e\\u0436\\u0434\\u0435\\u043d\\u0438\\u044f, \\u0434. 4&quot;, &quot;id&quot;: 8939474, &quot;latitude&quot;: 56.1697286, &quot;longitude&quot;: 101.634549697383}, &quot;type&quot;: &quot;Feature&quot;}, {&quot;bbox&quot;: [101.634549697383, 56.1697286, 101.634549697383, 56.1697286], &quot;geometry&quot;: {&quot;coordinates&quot;: [101.634549697383, 56.1697286], &quot;type&quot;: &quot;Point&quot;}, &quot;id&quot;: &quot;35&quot;, &quot;properties&quot;: {&quot;address&quot;: &quot;\\u043e\\u0431\\u043b. \\u0418\\u0440\\u043a\\u0443\\u0442\\u0441\\u043a\\u0430\\u044f, \\u0433. \\u0411\\u0440\\u0430\\u0442\\u0441\\u043a, \\u0443\\u043b. \\u0412\\u043e\\u0437\\u0440\\u043e\\u0436\\u0434\\u0435\\u043d\\u0438\\u044f, \\u0434. 6&quot;, &quot;id&quot;: 8939475, &quot;latitude&quot;: 56.1697286, &quot;longitude&quot;: 101.634549697383}, &quot;type&quot;: &quot;Feature&quot;}, {&quot;bbox&quot;: [101.634549697383, 56.1697286, 101.634549697383, 56.1697286], &quot;geometry&quot;: {&quot;coordinates&quot;: [101.634549697383, 56.1697286], &quot;type&quot;: &quot;Point&quot;}, &quot;id&quot;: &quot;36&quot;, &quot;properties&quot;: {&quot;address&quot;: &quot;\\u043e\\u0431\\u043b. \\u0418\\u0440\\u043a\\u0443\\u0442\\u0441\\u043a\\u0430\\u044f, \\u0433. \\u0411\\u0440\\u0430\\u0442\\u0441\\u043a, \\u0443\\u043b. \\u0412\\u043e\\u0437\\u0440\\u043e\\u0436\\u0434\\u0435\\u043d\\u0438\\u044f, \\u0434. 8&quot;, &quot;id&quot;: 8939476, &quot;latitude&quot;: 56.1697286, &quot;longitude&quot;: 101.634549697383}, &quot;type&quot;: &quot;Feature&quot;}, {&quot;bbox&quot;: [101.634549697383, 56.1697286, 101.634549697383, 56.1697286], &quot;geometry&quot;: {&quot;coordinates&quot;: [101.634549697383, 56.1697286], &quot;type&quot;: &quot;Point&quot;}, &quot;id&quot;: &quot;37&quot;, &quot;properties&quot;: {&quot;address&quot;: &quot;\\u043e\\u0431\\u043b. \\u0418\\u0440\\u043a\\u0443\\u0442\\u0441\\u043a\\u0430\\u044f, \\u0433. \\u0411\\u0440\\u0430\\u0442\\u0441\\u043a, \\u0443\\u043b. \\u0412\\u043e\\u0437\\u0440\\u043e\\u0436\\u0434\\u0435\\u043d\\u0438\\u044f, \\u0434. 10&quot;, &quot;id&quot;: 8939477, &quot;latitude&quot;: 56.1697286, &quot;longitude&quot;: 101.634549697383}, &quot;type&quot;: &quot;Feature&quot;}, {&quot;bbox&quot;: [101.634549697383, 56.1697286, 101.634549697383, 56.1697286], &quot;geometry&quot;: {&quot;coordinates&quot;: [101.634549697383, 56.1697286], &quot;type&quot;: &quot;Point&quot;}, &quot;id&quot;: &quot;38&quot;, &quot;properties&quot;: {&quot;address&quot;: &quot;\\u043e\\u0431\\u043b. \\u0418\\u0440\\u043a\\u0443\\u0442\\u0441\\u043a\\u0430\\u044f, \\u0433. \\u0411\\u0440\\u0430\\u0442\\u0441\\u043a, \\u0443\\u043b. \\u0412\\u043e\\u0437\\u0440\\u043e\\u0436\\u0434\\u0435\\u043d\\u0438\\u044f, \\u0434. 12&quot;, &quot;id&quot;: 8939478, &quot;latitude&quot;: 56.1697286, &quot;longitude&quot;: 101.634549697383}, &quot;type&quot;: &quot;Feature&quot;}, {&quot;bbox&quot;: [101.634549697383, 56.1697286, 101.634549697383, 56.1697286], &quot;geometry&quot;: {&quot;coordinates&quot;: [101.634549697383, 56.1697286], &quot;type&quot;: &quot;Point&quot;}, &quot;id&quot;: &quot;39&quot;, &quot;properties&quot;: {&quot;address&quot;: &quot;\\u043e\\u0431\\u043b. \\u0418\\u0440\\u043a\\u0443\\u0442\\u0441\\u043a\\u0430\\u044f, \\u0433. \\u0411\\u0440\\u0430\\u0442\\u0441\\u043a, \\u0443\\u043b. \\u0412\\u043e\\u0437\\u0440\\u043e\\u0436\\u0434\\u0435\\u043d\\u0438\\u044f, \\u0434. 14&quot;, &quot;id&quot;: 8939479, &quot;latitude&quot;: 56.1697286, &quot;longitude&quot;: 101.634549697383}, &quot;type&quot;: &quot;Feature&quot;}, {&quot;bbox&quot;: [101.634549697383, 56.1697286, 101.634549697383, 56.1697286], &quot;geometry&quot;: {&quot;coordinates&quot;: [101.634549697383, 56.1697286], &quot;type&quot;: &quot;Point&quot;}, &quot;id&quot;: &quot;40&quot;, &quot;properties&quot;: {&quot;address&quot;: &quot;\\u043e\\u0431\\u043b. \\u0418\\u0440\\u043a\\u0443\\u0442\\u0441\\u043a\\u0430\\u044f, \\u0433. \\u0411\\u0440\\u0430\\u0442\\u0441\\u043a, \\u0443\\u043b. \\u0412\\u043e\\u0437\\u0440\\u043e\\u0436\\u0434\\u0435\\u043d\\u0438\\u044f, \\u0434. 16&quot;, &quot;id&quot;: 8939480, &quot;latitude&quot;: 56.1697286, &quot;longitude&quot;: 101.634549697383}, &quot;type&quot;: &quot;Feature&quot;}, {&quot;bbox&quot;: [101.634549697383, 56.1697286, 101.634549697383, 56.1697286], &quot;geometry&quot;: {&quot;coordinates&quot;: [101.634549697383, 56.1697286], &quot;type&quot;: &quot;Point&quot;}, &quot;id&quot;: &quot;41&quot;, &quot;properties&quot;: {&quot;address&quot;: &quot;\\u043e\\u0431\\u043b. \\u0418\\u0440\\u043a\\u0443\\u0442\\u0441\\u043a\\u0430\\u044f, \\u0433. \\u0411\\u0440\\u0430\\u0442\\u0441\\u043a, \\u0443\\u043b. \\u0412\\u043e\\u0437\\u0440\\u043e\\u0436\\u0434\\u0435\\u043d\\u0438\\u044f, \\u0434. 18&quot;, &quot;id&quot;: 8939481, &quot;latitude&quot;: 56.1697286, &quot;longitude&quot;: 101.634549697383}, &quot;type&quot;: &quot;Feature&quot;}, {&quot;bbox&quot;: [101.725021803722, 56.2921498, 101.725021803722, 56.2921498], &quot;geometry&quot;: {&quot;coordinates&quot;: [101.725021803722, 56.2921498], &quot;type&quot;: &quot;Point&quot;}, &quot;id&quot;: &quot;42&quot;, &quot;properties&quot;: {&quot;address&quot;: &quot;\\u043e\\u0431\\u043b. \\u0418\\u0440\\u043a\\u0443\\u0442\\u0441\\u043a\\u0430\\u044f, \\u0433. \\u0411\\u0440\\u0430\\u0442\\u0441\\u043a, \\u0443\\u043b. \\u0413\\u0438\\u0434\\u0440\\u043e\\u0441\\u0442\\u0440\\u043e\\u0438\\u0442\\u0435\\u043b\\u0435\\u0439, \\u0434. 61\\u0410&quot;, &quot;id&quot;: 6721647, &quot;latitude&quot;: 56.2921498, &quot;longitude&quot;: 101.725021803722}, &quot;type&quot;: &quot;Feature&quot;}, {&quot;bbox&quot;: [101.725021803722, 56.2921498, 101.725021803722, 56.2921498], &quot;geometry&quot;: {&quot;coordinates&quot;: [101.725021803722, 56.2921498], &quot;type&quot;: &quot;Point&quot;}, &quot;id&quot;: &quot;43&quot;, &quot;properties&quot;: {&quot;address&quot;: &quot;\\u043e\\u0431\\u043b. \\u0418\\u0440\\u043a\\u0443\\u0442\\u0441\\u043a\\u0430\\u044f, \\u0433. \\u0411\\u0440\\u0430\\u0442\\u0441\\u043a, \\u0443\\u043b. \\u0413\\u0438\\u0434\\u0440\\u043e\\u0441\\u0442\\u0440\\u043e\\u0438\\u0442\\u0435\\u043b\\u0435\\u0439, \\u0434. 61\\u0410&quot;, &quot;id&quot;: 9155597, &quot;latitude&quot;: 56.2921498, &quot;longitude&quot;: 101.725021803722}, &quot;type&quot;: &quot;Feature&quot;}, {&quot;bbox&quot;: [101.725021803722, 56.2921498, 101.725021803722, 56.2921498], &quot;geometry&quot;: {&quot;coordinates&quot;: [101.725021803722, 56.2921498], &quot;type&quot;: &quot;Point&quot;}, &quot;id&quot;: &quot;44&quot;, &quot;properties&quot;: {&quot;address&quot;: &quot;\\u043e\\u0431\\u043b. \\u0418\\u0440\\u043a\\u0443\\u0442\\u0441\\u043a\\u0430\\u044f, \\u0433. \\u0411\\u0440\\u0430\\u0442\\u0441\\u043a, \\u0443\\u043b. \\u0413\\u0438\\u0434\\u0440\\u043e\\u0441\\u0442\\u0440\\u043e\\u0438\\u0442\\u0435\\u043b\\u0435\\u0439, \\u0434. 65&quot;, &quot;id&quot;: 6482851, &quot;latitude&quot;: 56.2921498, &quot;longitude&quot;: 101.725021803722}, &quot;type&quot;: &quot;Feature&quot;}, {&quot;bbox&quot;: [101.725021803722, 56.2921498, 101.725021803722, 56.2921498], &quot;geometry&quot;: {&quot;coordinates&quot;: [101.725021803722, 56.2921498], &quot;type&quot;: &quot;Point&quot;}, &quot;id&quot;: &quot;45&quot;, &quot;properties&quot;: {&quot;address&quot;: &quot;\\u043e\\u0431\\u043b. \\u0418\\u0440\\u043a\\u0443\\u0442\\u0441\\u043a\\u0430\\u044f, \\u0433. \\u0411\\u0440\\u0430\\u0442\\u0441\\u043a, \\u0443\\u043b. \\u0413\\u0438\\u0434\\u0440\\u043e\\u0441\\u0442\\u0440\\u043e\\u0438\\u0442\\u0435\\u043b\\u0435\\u0439, \\u0434. 72&quot;, &quot;id&quot;: 8925320, &quot;latitude&quot;: 56.2921498, &quot;longitude&quot;: 101.725021803722}, &quot;type&quot;: &quot;Feature&quot;}, {&quot;bbox&quot;: [101.725021803722, 56.2921498, 101.725021803722, 56.2921498], &quot;geometry&quot;: {&quot;coordinates&quot;: [101.725021803722, 56.2921498], &quot;type&quot;: &quot;Point&quot;}, &quot;id&quot;: &quot;46&quot;, &quot;properties&quot;: {&quot;address&quot;: &quot;\\u043e\\u0431\\u043b. \\u0418\\u0440\\u043a\\u0443\\u0442\\u0441\\u043a\\u0430\\u044f, \\u0433. \\u0411\\u0440\\u0430\\u0442\\u0441\\u043a, \\u0443\\u043b. \\u0413\\u0438\\u0434\\u0440\\u043e\\u0441\\u0442\\u0440\\u043e\\u0438\\u0442\\u0435\\u043b\\u0435\\u0439, \\u0434. 75&quot;, &quot;id&quot;: 8925321, &quot;latitude&quot;: 56.2921498, &quot;longitude&quot;: 101.725021803722}, &quot;type&quot;: &quot;Feature&quot;}, {&quot;bbox&quot;: [101.725021803722, 56.2921498, 101.725021803722, 56.2921498], &quot;geometry&quot;: {&quot;coordinates&quot;: [101.725021803722, 56.2921498], &quot;type&quot;: &quot;Point&quot;}, &quot;id&quot;: &quot;47&quot;, &quot;properties&quot;: {&quot;address&quot;: &quot;\\u043e\\u0431\\u043b. \\u0418\\u0440\\u043a\\u0443\\u0442\\u0441\\u043a\\u0430\\u044f, \\u0433. \\u0411\\u0440\\u0430\\u0442\\u0441\\u043a, \\u0443\\u043b. \\u0413\\u0438\\u0434\\u0440\\u043e\\u0441\\u0442\\u0440\\u043e\\u0438\\u0442\\u0435\\u043b\\u0435\\u0439, \\u0434. 79&quot;, &quot;id&quot;: 8951561, &quot;latitude&quot;: 56.2921498, &quot;longitude&quot;: 101.725021803722}, &quot;type&quot;: &quot;Feature&quot;}, {&quot;bbox&quot;: [101.908205271792, 56.2792203, 101.908205271792, 56.2792203], &quot;geometry&quot;: {&quot;coordinates&quot;: [101.908205271792, 56.2792203], &quot;type&quot;: &quot;Point&quot;}, &quot;id&quot;: &quot;48&quot;, &quot;properties&quot;: {&quot;address&quot;: &quot;\\u043e\\u0431\\u043b. \\u0418\\u0440\\u043a\\u0443\\u0442\\u0441\\u043a\\u0430\\u044f, \\u0433. \\u0411\\u0440\\u0430\\u0442\\u0441\\u043a, \\u0443\\u043b. \\u0421\\u043e\\u0432\\u0435\\u0442\\u0441\\u043a\\u0430\\u044f, \\u0434. 18&quot;, &quot;id&quot;: 6554125, &quot;latitude&quot;: 56.2792203, &quot;longitude&quot;: 101.908205271792}, &quot;type&quot;: &quot;Feature&quot;}, {&quot;bbox&quot;: [101.908205271792, 56.2792203, 101.908205271792, 56.2792203], &quot;geometry&quot;: {&quot;coordinates&quot;: [101.908205271792, 56.2792203], &quot;type&quot;: &quot;Point&quot;}, &quot;id&quot;: &quot;49&quot;, &quot;properties&quot;: {&quot;address&quot;: &quot;\\u043e\\u0431\\u043b. \\u0418\\u0440\\u043a\\u0443\\u0442\\u0441\\u043a\\u0430\\u044f, \\u0433. \\u0411\\u0440\\u0430\\u0442\\u0441\\u043a, \\u0443\\u043b. \\u0421\\u043e\\u0432\\u0435\\u0442\\u0441\\u043a\\u0430\\u044f, \\u0434. 20&quot;, &quot;id&quot;: 6554126, &quot;latitude&quot;: 56.2792203, &quot;longitude&quot;: 101.908205271792}, &quot;type&quot;: &quot;Feature&quot;}, {&quot;bbox&quot;: [101.908205271792, 56.2792203, 101.908205271792, 56.2792203], &quot;geometry&quot;: {&quot;coordinates&quot;: [101.908205271792, 56.2792203], &quot;type&quot;: &quot;Point&quot;}, &quot;id&quot;: &quot;50&quot;, &quot;properties&quot;: {&quot;address&quot;: &quot;\\u043e\\u0431\\u043b. \\u0418\\u0440\\u043a\\u0443\\u0442\\u0441\\u043a\\u0430\\u044f, \\u0433. \\u0411\\u0440\\u0430\\u0442\\u0441\\u043a, \\u0443\\u043b. \\u0421\\u043e\\u0432\\u0435\\u0442\\u0441\\u043a\\u0430\\u044f, \\u0434. 22&quot;, &quot;id&quot;: 7949790, &quot;latitude&quot;: 56.2792203, &quot;longitude&quot;: 101.908205271792}, &quot;type&quot;: &quot;Feature&quot;}, {&quot;bbox&quot;: [101.908205271792, 56.2792203, 101.908205271792, 56.2792203], &quot;geometry&quot;: {&quot;coordinates&quot;: [101.908205271792, 56.2792203], &quot;type&quot;: &quot;Point&quot;}, &quot;id&quot;: &quot;51&quot;, &quot;properties&quot;: {&quot;address&quot;: &quot;\\u043e\\u0431\\u043b. \\u0418\\u0440\\u043a\\u0443\\u0442\\u0441\\u043a\\u0430\\u044f, \\u0433. \\u0411\\u0440\\u0430\\u0442\\u0441\\u043a, \\u0443\\u043b. \\u0421\\u043e\\u0432\\u0435\\u0442\\u0441\\u043a\\u0430\\u044f, \\u0434. 25&quot;, &quot;id&quot;: 7949802, &quot;latitude&quot;: 56.2792203, &quot;longitude&quot;: 101.908205271792}, &quot;type&quot;: &quot;Feature&quot;}, {&quot;bbox&quot;: [101.908205271792, 56.2792203, 101.908205271792, 56.2792203], &quot;geometry&quot;: {&quot;coordinates&quot;: [101.908205271792, 56.2792203], &quot;type&quot;: &quot;Point&quot;}, &quot;id&quot;: &quot;52&quot;, &quot;properties&quot;: {&quot;address&quot;: &quot;\\u043e\\u0431\\u043b. \\u0418\\u0440\\u043a\\u0443\\u0442\\u0441\\u043a\\u0430\\u044f, \\u0433. \\u0411\\u0440\\u0430\\u0442\\u0441\\u043a, \\u0443\\u043b. \\u0421\\u043e\\u0432\\u0435\\u0442\\u0441\\u043a\\u0430\\u044f, \\u0434. 27&quot;, &quot;id&quot;: 7949806, &quot;latitude&quot;: 56.2792203, &quot;longitude&quot;: 101.908205271792}, &quot;type&quot;: &quot;Feature&quot;}, {&quot;bbox&quot;: [101.908205271792, 56.2792203, 101.908205271792, 56.2792203], &quot;geometry&quot;: {&quot;coordinates&quot;: [101.908205271792, 56.2792203], &quot;type&quot;: &quot;Point&quot;}, &quot;id&quot;: &quot;53&quot;, &quot;properties&quot;: {&quot;address&quot;: &quot;\\u043e\\u0431\\u043b. \\u0418\\u0440\\u043a\\u0443\\u0442\\u0441\\u043a\\u0430\\u044f, \\u0433. \\u0411\\u0440\\u0430\\u0442\\u0441\\u043a, \\u0443\\u043b. \\u0421\\u043e\\u0432\\u0435\\u0442\\u0441\\u043a\\u0430\\u044f, \\u0434. 28&quot;, &quot;id&quot;: 7949793, &quot;latitude&quot;: 56.2792203, &quot;longitude&quot;: 101.908205271792}, &quot;type&quot;: &quot;Feature&quot;}, {&quot;bbox&quot;: [101.908205271792, 56.2792203, 101.908205271792, 56.2792203], &quot;geometry&quot;: {&quot;coordinates&quot;: [101.908205271792, 56.2792203], &quot;type&quot;: &quot;Point&quot;}, &quot;id&quot;: &quot;54&quot;, &quot;properties&quot;: {&quot;address&quot;: &quot;\\u043e\\u0431\\u043b. \\u0418\\u0440\\u043a\\u0443\\u0442\\u0441\\u043a\\u0430\\u044f, \\u0433. \\u0411\\u0440\\u0430\\u0442\\u0441\\u043a, \\u0443\\u043b. \\u0421\\u043e\\u0432\\u0435\\u0442\\u0441\\u043a\\u0430\\u044f, \\u0434. 29&quot;, &quot;id&quot;: 7949810, &quot;latitude&quot;: 56.2792203, &quot;longitude&quot;: 101.908205271792}, &quot;type&quot;: &quot;Feature&quot;}, {&quot;bbox&quot;: [101.908205271792, 56.2792203, 101.908205271792, 56.2792203], &quot;geometry&quot;: {&quot;coordinates&quot;: [101.908205271792, 56.2792203], &quot;type&quot;: &quot;Point&quot;}, &quot;id&quot;: &quot;55&quot;, &quot;properties&quot;: {&quot;address&quot;: &quot;\\u043e\\u0431\\u043b. \\u0418\\u0440\\u043a\\u0443\\u0442\\u0441\\u043a\\u0430\\u044f, \\u0433. \\u0411\\u0440\\u0430\\u0442\\u0441\\u043a, \\u0443\\u043b. \\u0421\\u043e\\u0432\\u0435\\u0442\\u0441\\u043a\\u0430\\u044f, \\u0434. 30&quot;, &quot;id&quot;: 7742330, &quot;latitude&quot;: 56.2792203, &quot;longitude&quot;: 101.908205271792}, &quot;type&quot;: &quot;Feature&quot;}, {&quot;bbox&quot;: [101.908205271792, 56.2792203, 101.908205271792, 56.2792203], &quot;geometry&quot;: {&quot;coordinates&quot;: [101.908205271792, 56.2792203], &quot;type&quot;: &quot;Point&quot;}, &quot;id&quot;: &quot;56&quot;, &quot;properties&quot;: {&quot;address&quot;: &quot;\\u043e\\u0431\\u043b. \\u0418\\u0440\\u043a\\u0443\\u0442\\u0441\\u043a\\u0430\\u044f, \\u0433. \\u0411\\u0440\\u0430\\u0442\\u0441\\u043a, \\u0443\\u043b. \\u0421\\u043e\\u0432\\u0435\\u0442\\u0441\\u043a\\u0430\\u044f, \\u0434. 32&quot;, &quot;id&quot;: 7742331, &quot;latitude&quot;: 56.2792203, &quot;longitude&quot;: 101.908205271792}, &quot;type&quot;: &quot;Feature&quot;}, {&quot;bbox&quot;: [101.908205271792, 56.2792203, 101.908205271792, 56.2792203], &quot;geometry&quot;: {&quot;coordinates&quot;: [101.908205271792, 56.2792203], &quot;type&quot;: &quot;Point&quot;}, &quot;id&quot;: &quot;57&quot;, &quot;properties&quot;: {&quot;address&quot;: &quot;\\u043e\\u0431\\u043b. \\u0418\\u0440\\u043a\\u0443\\u0442\\u0441\\u043a\\u0430\\u044f, \\u0433. \\u0411\\u0440\\u0430\\u0442\\u0441\\u043a, \\u0443\\u043b. \\u0421\\u043e\\u043b\\u043d\\u0435\\u0447\\u043d\\u0430\\u044f, \\u0434. 3&quot;, &quot;id&quot;: 7643331, &quot;latitude&quot;: 56.2792203, &quot;longitude&quot;: 101.908205271792}, &quot;type&quot;: &quot;Feature&quot;}, {&quot;bbox&quot;: [101.908205271792, 56.2792203, 101.908205271792, 56.2792203], &quot;geometry&quot;: {&quot;coordinates&quot;: [101.908205271792, 56.2792203], &quot;type&quot;: &quot;Point&quot;}, &quot;id&quot;: &quot;58&quot;, &quot;properties&quot;: {&quot;address&quot;: &quot;\\u043e\\u0431\\u043b. \\u0418\\u0440\\u043a\\u0443\\u0442\\u0441\\u043a\\u0430\\u044f, \\u0433. \\u0411\\u0440\\u0430\\u0442\\u0441\\u043a, \\u0443\\u043b. \\u0421\\u043e\\u043b\\u043d\\u0435\\u0447\\u043d\\u0430\\u044f, \\u0434. 5&quot;, &quot;id&quot;: 7643334, &quot;latitude&quot;: 56.2792203, &quot;longitude&quot;: 101.908205271792}, &quot;type&quot;: &quot;Feature&quot;}, {&quot;bbox&quot;: [101.908205271792, 56.2792203, 101.908205271792, 56.2792203], &quot;geometry&quot;: {&quot;coordinates&quot;: [101.908205271792, 56.2792203], &quot;type&quot;: &quot;Point&quot;}, &quot;id&quot;: &quot;59&quot;, &quot;properties&quot;: {&quot;address&quot;: &quot;\\u043e\\u0431\\u043b. \\u0418\\u0440\\u043a\\u0443\\u0442\\u0441\\u043a\\u0430\\u044f, \\u0433. \\u0411\\u0440\\u0430\\u0442\\u0441\\u043a, \\u0443\\u043b. \\u0421\\u043e\\u043b\\u043d\\u0435\\u0447\\u043d\\u0430\\u044f, \\u0434. 6&quot;, &quot;id&quot;: 6482903, &quot;latitude&quot;: 56.2792203, &quot;longitude&quot;: 101.908205271792}, &quot;type&quot;: &quot;Feature&quot;}, {&quot;bbox&quot;: [101.908205271792, 56.2792203, 101.908205271792, 56.2792203], &quot;geometry&quot;: {&quot;coordinates&quot;: [101.908205271792, 56.2792203], &quot;type&quot;: &quot;Point&quot;}, &quot;id&quot;: &quot;60&quot;, &quot;properties&quot;: {&quot;address&quot;: &quot;\\u043e\\u0431\\u043b. \\u0418\\u0440\\u043a\\u0443\\u0442\\u0441\\u043a\\u0430\\u044f, \\u0433. \\u0411\\u0440\\u0430\\u0442\\u0441\\u043a, \\u0443\\u043b. \\u0421\\u043e\\u043b\\u043d\\u0435\\u0447\\u043d\\u0430\\u044f, \\u0434. 8.&quot;, &quot;id&quot;: 9114510, &quot;latitude&quot;: 56.2792203, &quot;longitude&quot;: 101.908205271792}, &quot;type&quot;: &quot;Feature&quot;}, {&quot;bbox&quot;: [101.908205271792, 56.2792203, 101.908205271792, 56.2792203], &quot;geometry&quot;: {&quot;coordinates&quot;: [101.908205271792, 56.2792203], &quot;type&quot;: &quot;Point&quot;}, &quot;id&quot;: &quot;61&quot;, &quot;properties&quot;: {&quot;address&quot;: &quot;\\u043e\\u0431\\u043b. \\u0418\\u0440\\u043a\\u0443\\u0442\\u0441\\u043a\\u0430\\u044f, \\u0433. \\u0411\\u0440\\u0430\\u0442\\u0441\\u043a, \\u0443\\u043b. \\u0421\\u043e\\u043b\\u043d\\u0435\\u0447\\u043d\\u0430\\u044f, \\u0434. 8&quot;, &quot;id&quot;: 6482904, &quot;latitude&quot;: 56.2792203, &quot;longitude&quot;: 101.908205271792}, &quot;type&quot;: &quot;Feature&quot;}, {&quot;bbox&quot;: [101.908205271792, 56.2792203, 101.908205271792, 56.2792203], &quot;geometry&quot;: {&quot;coordinates&quot;: [101.908205271792, 56.2792203], &quot;type&quot;: &quot;Point&quot;}, &quot;id&quot;: &quot;62&quot;, &quot;properties&quot;: {&quot;address&quot;: &quot;\\u043e\\u0431\\u043b. \\u0418\\u0440\\u043a\\u0443\\u0442\\u0441\\u043a\\u0430\\u044f, \\u0433. \\u0411\\u0440\\u0430\\u0442\\u0441\\u043a, \\u0443\\u043b. \\u0421\\u043e\\u043b\\u043d\\u0435\\u0447\\u043d\\u0430\\u044f, \\u0434. 9&quot;, &quot;id&quot;: 7643335, &quot;latitude&quot;: 56.2792203, &quot;longitude&quot;: 101.908205271792}, &quot;type&quot;: &quot;Feature&quot;}, {&quot;bbox&quot;: [101.908205271792, 56.2792203, 101.908205271792, 56.2792203], &quot;geometry&quot;: {&quot;coordinates&quot;: [101.908205271792, 56.2792203], &quot;type&quot;: &quot;Point&quot;}, &quot;id&quot;: &quot;63&quot;, &quot;properties&quot;: {&quot;address&quot;: &quot;\\u043e\\u0431\\u043b. \\u0418\\u0440\\u043a\\u0443\\u0442\\u0441\\u043a\\u0430\\u044f, \\u0433. \\u0411\\u0440\\u0430\\u0442\\u0441\\u043a, \\u0443\\u043b. \\u0421\\u043e\\u043b\\u043d\\u0435\\u0447\\u043d\\u0430\\u044f, \\u0434. 10.&quot;, &quot;id&quot;: 9126304, &quot;latitude&quot;: 56.2792203, &quot;longitude&quot;: 101.908205271792}, &quot;type&quot;: &quot;Feature&quot;}, {&quot;bbox&quot;: [101.908205271792, 56.2792203, 101.908205271792, 56.2792203], &quot;geometry&quot;: {&quot;coordinates&quot;: [101.908205271792, 56.2792203], &quot;type&quot;: &quot;Point&quot;}, &quot;id&quot;: &quot;64&quot;, &quot;properties&quot;: {&quot;address&quot;: &quot;\\u043e\\u0431\\u043b. \\u0418\\u0440\\u043a\\u0443\\u0442\\u0441\\u043a\\u0430\\u044f, \\u0433. \\u0411\\u0440\\u0430\\u0442\\u0441\\u043a, \\u0443\\u043b. \\u0421\\u043e\\u043b\\u043d\\u0435\\u0447\\u043d\\u0430\\u044f, \\u0434. 10&quot;, &quot;id&quot;: 6483098, &quot;latitude&quot;: 56.2792203, &quot;longitude&quot;: 101.908205271792}, &quot;type&quot;: &quot;Feature&quot;}, {&quot;bbox&quot;: [101.908205271792, 56.2792203, 101.908205271792, 56.2792203], &quot;geometry&quot;: {&quot;coordinates&quot;: [101.908205271792, 56.2792203], &quot;type&quot;: &quot;Point&quot;}, &quot;id&quot;: &quot;65&quot;, &quot;properties&quot;: {&quot;address&quot;: &quot;\\u043e\\u0431\\u043b. \\u0418\\u0440\\u043a\\u0443\\u0442\\u0441\\u043a\\u0430\\u044f, \\u0433. \\u0411\\u0440\\u0430\\u0442\\u0441\\u043a, \\u0443\\u043b. \\u0421\\u043e\\u043b\\u043d\\u0435\\u0447\\u043d\\u0430\\u044f, \\u0434. 11&quot;, &quot;id&quot;: 7643330, &quot;latitude&quot;: 56.2792203, &quot;longitude&quot;: 101.908205271792}, &quot;type&quot;: &quot;Feature&quot;}, {&quot;bbox&quot;: [101.908205271792, 56.2792203, 101.908205271792, 56.2792203], &quot;geometry&quot;: {&quot;coordinates&quot;: [101.908205271792, 56.2792203], &quot;type&quot;: &quot;Point&quot;}, &quot;id&quot;: &quot;66&quot;, &quot;properties&quot;: {&quot;address&quot;: &quot;\\u043e\\u0431\\u043b. \\u0418\\u0440\\u043a\\u0443\\u0442\\u0441\\u043a\\u0430\\u044f, \\u0433. \\u0411\\u0440\\u0430\\u0442\\u0441\\u043a, \\u0443\\u043b. \\u0421\\u0442\\u0443\\u0434\\u0435\\u043d\\u0447\\u0435\\u0441\\u043a\\u0430\\u044f, \\u0434. 2&quot;, &quot;id&quot;: 7643340, &quot;latitude&quot;: 56.2792203, &quot;longitude&quot;: 101.908205271792}, &quot;type&quot;: &quot;Feature&quot;}, {&quot;bbox&quot;: [101.908205271792, 56.2792203, 101.908205271792, 56.2792203], &quot;geometry&quot;: {&quot;coordinates&quot;: [101.908205271792, 56.2792203], &quot;type&quot;: &quot;Point&quot;}, &quot;id&quot;: &quot;67&quot;, &quot;properties&quot;: {&quot;address&quot;: &quot;\\u043e\\u0431\\u043b. \\u0418\\u0440\\u043a\\u0443\\u0442\\u0441\\u043a\\u0430\\u044f, \\u0433. \\u0411\\u0440\\u0430\\u0442\\u0441\\u043a, \\u0443\\u043b. \\u0421\\u0442\\u0443\\u0434\\u0435\\u043d\\u0447\\u0435\\u0441\\u043a\\u0430\\u044f, \\u0434. 4&quot;, &quot;id&quot;: 6482905, &quot;latitude&quot;: 56.2792203, &quot;longitude&quot;: 101.908205271792}, &quot;type&quot;: &quot;Feature&quot;}, {&quot;bbox&quot;: [101.908205271792, 56.2792203, 101.908205271792, 56.2792203], &quot;geometry&quot;: {&quot;coordinates&quot;: [101.908205271792, 56.2792203], &quot;type&quot;: &quot;Point&quot;}, &quot;id&quot;: &quot;68&quot;, &quot;properties&quot;: {&quot;address&quot;: &quot;\\u043e\\u0431\\u043b. \\u0418\\u0440\\u043a\\u0443\\u0442\\u0441\\u043a\\u0430\\u044f, \\u0433. \\u0411\\u0440\\u0430\\u0442\\u0441\\u043a, \\u0443\\u043b. \\u0421\\u0442\\u0443\\u0434\\u0435\\u043d\\u0447\\u0435\\u0441\\u043a\\u0430\\u044f, \\u0434. 10&quot;, &quot;id&quot;: 6482906, &quot;latitude&quot;: 56.2792203, &quot;longitude&quot;: 101.908205271792}, &quot;type&quot;: &quot;Feature&quot;}, {&quot;bbox&quot;: [101.908205271792, 56.2792203, 101.908205271792, 56.2792203], &quot;geometry&quot;: {&quot;coordinates&quot;: [101.908205271792, 56.2792203], &quot;type&quot;: &quot;Point&quot;}, &quot;id&quot;: &quot;69&quot;, &quot;properties&quot;: {&quot;address&quot;: &quot;\\u043e\\u0431\\u043b. \\u0418\\u0440\\u043a\\u0443\\u0442\\u0441\\u043a\\u0430\\u044f, \\u0433. \\u0411\\u0440\\u0430\\u0442\\u0441\\u043a, \\u0443\\u043b. \\u0421\\u0442\\u0443\\u0434\\u0435\\u043d\\u0447\\u0435\\u0441\\u043a\\u0430\\u044f, \\u0434. 12&quot;, &quot;id&quot;: 9031632, &quot;latitude&quot;: 56.2792203, &quot;longitude&quot;: 101.908205271792}, &quot;type&quot;: &quot;Feature&quot;}, {&quot;bbox&quot;: [101.908205271792, 56.2792203, 101.908205271792, 56.2792203], &quot;geometry&quot;: {&quot;coordinates&quot;: [101.908205271792, 56.2792203], &quot;type&quot;: &quot;Point&quot;}, &quot;id&quot;: &quot;70&quot;, &quot;properties&quot;: {&quot;address&quot;: &quot;\\u043e\\u0431\\u043b. \\u0418\\u0440\\u043a\\u0443\\u0442\\u0441\\u043a\\u0430\\u044f, \\u0433. \\u0411\\u0440\\u0430\\u0442\\u0441\\u043a, \\u0443\\u043b. \\u0421\\u0442\\u0443\\u0434\\u0435\\u043d\\u0447\\u0435\\u0441\\u043a\\u0430\\u044f, \\u0434. 14&quot;, &quot;id&quot;: 9314793, &quot;latitude&quot;: 56.2792203, &quot;longitude&quot;: 101.908205271792}, &quot;type&quot;: &quot;Feature&quot;}, {&quot;bbox&quot;: [101.908205271792, 56.2792203, 101.908205271792, 56.2792203], &quot;geometry&quot;: {&quot;coordinates&quot;: [101.908205271792, 56.2792203], &quot;type&quot;: &quot;Point&quot;}, &quot;id&quot;: &quot;71&quot;, &quot;properties&quot;: {&quot;address&quot;: &quot;\\u043e\\u0431\\u043b. \\u0418\\u0440\\u043a\\u0443\\u0442\\u0441\\u043a\\u0430\\u044f, \\u0433. \\u0411\\u0440\\u0430\\u0442\\u0441\\u043a, \\u0443\\u043b. \\u0421\\u0442\\u0443\\u0434\\u0435\\u043d\\u0447\\u0435\\u0441\\u043a\\u0430\\u044f, \\u0434. 16&quot;, &quot;id&quot;: 9314801, &quot;latitude&quot;: 56.2792203, &quot;longitude&quot;: 101.908205271792}, &quot;type&quot;: &quot;Feature&quot;}, {&quot;bbox&quot;: [101.908205271792, 56.2792203, 101.908205271792, 56.2792203], &quot;geometry&quot;: {&quot;coordinates&quot;: [101.908205271792, 56.2792203], &quot;type&quot;: &quot;Point&quot;}, &quot;id&quot;: &quot;72&quot;, &quot;properties&quot;: {&quot;address&quot;: &quot;\\u043e\\u0431\\u043b. \\u0418\\u0440\\u043a\\u0443\\u0442\\u0441\\u043a\\u0430\\u044f, \\u0433. \\u0411\\u0440\\u0430\\u0442\\u0441\\u043a, \\u0443\\u043b. \\u0421\\u0442\\u0443\\u0434\\u0435\\u043d\\u0447\\u0435\\u0441\\u043a\\u0430\\u044f, \\u0434. 18&quot;, &quot;id&quot;: 6685100, &quot;latitude&quot;: 56.2792203, &quot;longitude&quot;: 101.908205271792}, &quot;type&quot;: &quot;Feature&quot;}], &quot;type&quot;: &quot;FeatureCollection&quot;});\n",
       "\n",
       "        \n",
       "    \n",
       "    geo_json_4d15069ce11efeee5a6bf19320f214ae.bindTooltip(\n",
       "    function(layer){\n",
       "    let div = L.DomUtil.create(&#x27;div&#x27;);\n",
       "    \n",
       "    let handleObject = feature=&gt;typeof(feature)==&#x27;object&#x27; ? JSON.stringify(feature) : feature;\n",
       "    let fields = [&quot;id&quot;, &quot;address&quot;, &quot;longitude&quot;, &quot;latitude&quot;];\n",
       "    let aliases = [&quot;id&quot;, &quot;address&quot;, &quot;longitude&quot;, &quot;latitude&quot;];\n",
       "    let table = &#x27;&lt;table&gt;&#x27; +\n",
       "        String(\n",
       "        fields.map(\n",
       "        (v,i)=&gt;\n",
       "        `&lt;tr&gt;\n",
       "            &lt;th&gt;${aliases[i]}&lt;/th&gt;\n",
       "            \n",
       "            &lt;td&gt;${handleObject(layer.feature.properties[v])}&lt;/td&gt;\n",
       "        &lt;/tr&gt;`).join(&#x27;&#x27;))\n",
       "    +&#x27;&lt;/table&gt;&#x27;;\n",
       "    div.innerHTML=table;\n",
       "    \n",
       "    return div\n",
       "    }\n",
       "    ,{&quot;className&quot;: &quot;foliumtooltip&quot;, &quot;sticky&quot;: true});\n",
       "                     \n",
       "    \n",
       "            geo_json_4d15069ce11efeee5a6bf19320f214ae.addTo(map_a3ca4421a506ae81f209b7c94757d98c);\n",
       "        \n",
       "&lt;/script&gt;\n",
       "&lt;/html&gt;\" style=\"position:absolute;width:100%;height:100%;left:0;top:0;border:none !important;\" allowfullscreen webkitallowfullscreen mozallowfullscreen></iframe></div></div>"
      ],
      "text/plain": [
       "<folium.folium.Map at 0x1609af450>"
      ]
     },
     "execution_count": 74,
     "metadata": {},
     "output_type": "execute_result"
    }
   ],
   "source": [
    "gdf.explore()"
   ]
  },
  {
   "cell_type": "markdown",
   "metadata": {},
   "source": [
    "## 11. Export a GeoDataFrame to any favorite GIS format\n"
   ]
  },
  {
   "cell_type": "code",
   "execution_count": 75,
   "metadata": {},
   "outputs": [],
   "source": [
    "gdf.to_file('gdf_sample.gpkg')"
   ]
  }
 ],
 "metadata": {
  "kernelspec": {
   "display_name": "Python 3 (ipykernel)",
   "language": "python",
   "name": "python3"
  },
  "language_info": {
   "codemirror_mode": {
    "name": "ipython",
    "version": 3
   },
   "file_extension": ".py",
   "mimetype": "text/x-python",
   "name": "python",
   "nbconvert_exporter": "python",
   "pygments_lexer": "ipython3",
   "version": "3.11.3"
  },
  "vscode": {
   "interpreter": {
    "hash": "aee8b7b246df8f9039afb4144a1f6fd8d2ca17a180786b69acc140d282b71a49"
   }
  }
 },
 "nbformat": 4,
 "nbformat_minor": 4
}
